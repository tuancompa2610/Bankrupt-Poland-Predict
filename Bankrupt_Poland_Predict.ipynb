{
  "nbformat": 4,
  "nbformat_minor": 0,
  "metadata": {
    "colab": {
      "provenance": [],
      "authorship_tag": "ABX9TyOBF1OenWZjoxq89TDUYnyV",
      "include_colab_link": true
    },
    "kernelspec": {
      "name": "python3",
      "display_name": "Python 3"
    },
    "language_info": {
      "name": "python"
    }
  },
  "cells": [
    {
      "cell_type": "markdown",
      "metadata": {
        "id": "view-in-github",
        "colab_type": "text"
      },
      "source": [
        "<a href=\"https://colab.research.google.com/github/tuancompa2610/Bankrupt-Poland-Predict/blob/main/Bankrupt_Poland_Predict.ipynb\" target=\"_parent\"><img src=\"https://colab.research.google.com/assets/colab-badge.svg\" alt=\"Open In Colab\"/></a>"
      ]
    },
    {
      "cell_type": "code",
      "execution_count": null,
      "metadata": {
        "id": "9WJYQli2SZUr"
      },
      "outputs": [],
      "source": [
        "# Import libraries here\n",
        "import gzip\n",
        "import json\n",
        "import pickle\n",
        "from scipy.io import arff\n",
        "\n",
        "import ipywidgets as widgets\n",
        "import pandas as pd\n",
        "import matplotlib.pyplot as plt\n",
        "import seaborn as sns\n",
        "from imblearn.over_sampling import RandomOverSampler\n",
        "from imblearn.under_sampling import RandomUnderSampler\n",
        "from IPython.display import VimeoVideo\n",
        "from ipywidgets import interact\n",
        "from sklearn.ensemble import GradientBoostingClassifier\n",
        "from sklearn.ensemble import RandomForestClassifier\n",
        "from sklearn.impute import SimpleImputer\n",
        "from sklearn.metrics import (\n",
        "    ConfusionMatrixDisplay,\n",
        "    classification_report,\n",
        "    confusion_matrix,\n",
        ")\n",
        "from sklearn.model_selection import GridSearchCV, train_test_split, cross_val_score\n",
        "from sklearn.pipeline import make_pipeline\n",
        "from sklearn.metrics import accuracy_score\n",
        "from sklearn.tree import DecisionTreeClassifier\n"
      ]
    },
    {
      "cell_type": "code",
      "source": [
        "from google.colab import files\n",
        "uploaded = files.upload()"
      ],
      "metadata": {
        "colab": {
          "base_uri": "https://localhost:8080/",
          "height": 73
        },
        "id": "I2pdgQlutZ6Y",
        "outputId": "ebd36526-0f3f-4bfe-8f44-95db9f6050bc"
      },
      "execution_count": null,
      "outputs": [
        {
          "output_type": "display_data",
          "data": {
            "text/plain": [
              "<IPython.core.display.HTML object>"
            ],
            "text/html": [
              "\n",
              "     <input type=\"file\" id=\"files-3f5b1c4a-4c18-42cb-a6e6-b80b340f82fb\" name=\"files[]\" multiple disabled\n",
              "        style=\"border:none\" />\n",
              "     <output id=\"result-3f5b1c4a-4c18-42cb-a6e6-b80b340f82fb\">\n",
              "      Upload widget is only available when the cell has been executed in the\n",
              "      current browser session. Please rerun this cell to enable.\n",
              "      </output>\n",
              "      <script>// Copyright 2017 Google LLC\n",
              "//\n",
              "// Licensed under the Apache License, Version 2.0 (the \"License\");\n",
              "// you may not use this file except in compliance with the License.\n",
              "// You may obtain a copy of the License at\n",
              "//\n",
              "//      http://www.apache.org/licenses/LICENSE-2.0\n",
              "//\n",
              "// Unless required by applicable law or agreed to in writing, software\n",
              "// distributed under the License is distributed on an \"AS IS\" BASIS,\n",
              "// WITHOUT WARRANTIES OR CONDITIONS OF ANY KIND, either express or implied.\n",
              "// See the License for the specific language governing permissions and\n",
              "// limitations under the License.\n",
              "\n",
              "/**\n",
              " * @fileoverview Helpers for google.colab Python module.\n",
              " */\n",
              "(function(scope) {\n",
              "function span(text, styleAttributes = {}) {\n",
              "  const element = document.createElement('span');\n",
              "  element.textContent = text;\n",
              "  for (const key of Object.keys(styleAttributes)) {\n",
              "    element.style[key] = styleAttributes[key];\n",
              "  }\n",
              "  return element;\n",
              "}\n",
              "\n",
              "// Max number of bytes which will be uploaded at a time.\n",
              "const MAX_PAYLOAD_SIZE = 100 * 1024;\n",
              "\n",
              "function _uploadFiles(inputId, outputId) {\n",
              "  const steps = uploadFilesStep(inputId, outputId);\n",
              "  const outputElement = document.getElementById(outputId);\n",
              "  // Cache steps on the outputElement to make it available for the next call\n",
              "  // to uploadFilesContinue from Python.\n",
              "  outputElement.steps = steps;\n",
              "\n",
              "  return _uploadFilesContinue(outputId);\n",
              "}\n",
              "\n",
              "// This is roughly an async generator (not supported in the browser yet),\n",
              "// where there are multiple asynchronous steps and the Python side is going\n",
              "// to poll for completion of each step.\n",
              "// This uses a Promise to block the python side on completion of each step,\n",
              "// then passes the result of the previous step as the input to the next step.\n",
              "function _uploadFilesContinue(outputId) {\n",
              "  const outputElement = document.getElementById(outputId);\n",
              "  const steps = outputElement.steps;\n",
              "\n",
              "  const next = steps.next(outputElement.lastPromiseValue);\n",
              "  return Promise.resolve(next.value.promise).then((value) => {\n",
              "    // Cache the last promise value to make it available to the next\n",
              "    // step of the generator.\n",
              "    outputElement.lastPromiseValue = value;\n",
              "    return next.value.response;\n",
              "  });\n",
              "}\n",
              "\n",
              "/**\n",
              " * Generator function which is called between each async step of the upload\n",
              " * process.\n",
              " * @param {string} inputId Element ID of the input file picker element.\n",
              " * @param {string} outputId Element ID of the output display.\n",
              " * @return {!Iterable<!Object>} Iterable of next steps.\n",
              " */\n",
              "function* uploadFilesStep(inputId, outputId) {\n",
              "  const inputElement = document.getElementById(inputId);\n",
              "  inputElement.disabled = false;\n",
              "\n",
              "  const outputElement = document.getElementById(outputId);\n",
              "  outputElement.innerHTML = '';\n",
              "\n",
              "  const pickedPromise = new Promise((resolve) => {\n",
              "    inputElement.addEventListener('change', (e) => {\n",
              "      resolve(e.target.files);\n",
              "    });\n",
              "  });\n",
              "\n",
              "  const cancel = document.createElement('button');\n",
              "  inputElement.parentElement.appendChild(cancel);\n",
              "  cancel.textContent = 'Cancel upload';\n",
              "  const cancelPromise = new Promise((resolve) => {\n",
              "    cancel.onclick = () => {\n",
              "      resolve(null);\n",
              "    };\n",
              "  });\n",
              "\n",
              "  // Wait for the user to pick the files.\n",
              "  const files = yield {\n",
              "    promise: Promise.race([pickedPromise, cancelPromise]),\n",
              "    response: {\n",
              "      action: 'starting',\n",
              "    }\n",
              "  };\n",
              "\n",
              "  cancel.remove();\n",
              "\n",
              "  // Disable the input element since further picks are not allowed.\n",
              "  inputElement.disabled = true;\n",
              "\n",
              "  if (!files) {\n",
              "    return {\n",
              "      response: {\n",
              "        action: 'complete',\n",
              "      }\n",
              "    };\n",
              "  }\n",
              "\n",
              "  for (const file of files) {\n",
              "    const li = document.createElement('li');\n",
              "    li.append(span(file.name, {fontWeight: 'bold'}));\n",
              "    li.append(span(\n",
              "        `(${file.type || 'n/a'}) - ${file.size} bytes, ` +\n",
              "        `last modified: ${\n",
              "            file.lastModifiedDate ? file.lastModifiedDate.toLocaleDateString() :\n",
              "                                    'n/a'} - `));\n",
              "    const percent = span('0% done');\n",
              "    li.appendChild(percent);\n",
              "\n",
              "    outputElement.appendChild(li);\n",
              "\n",
              "    const fileDataPromise = new Promise((resolve) => {\n",
              "      const reader = new FileReader();\n",
              "      reader.onload = (e) => {\n",
              "        resolve(e.target.result);\n",
              "      };\n",
              "      reader.readAsArrayBuffer(file);\n",
              "    });\n",
              "    // Wait for the data to be ready.\n",
              "    let fileData = yield {\n",
              "      promise: fileDataPromise,\n",
              "      response: {\n",
              "        action: 'continue',\n",
              "      }\n",
              "    };\n",
              "\n",
              "    // Use a chunked sending to avoid message size limits. See b/62115660.\n",
              "    let position = 0;\n",
              "    do {\n",
              "      const length = Math.min(fileData.byteLength - position, MAX_PAYLOAD_SIZE);\n",
              "      const chunk = new Uint8Array(fileData, position, length);\n",
              "      position += length;\n",
              "\n",
              "      const base64 = btoa(String.fromCharCode.apply(null, chunk));\n",
              "      yield {\n",
              "        response: {\n",
              "          action: 'append',\n",
              "          file: file.name,\n",
              "          data: base64,\n",
              "        },\n",
              "      };\n",
              "\n",
              "      let percentDone = fileData.byteLength === 0 ?\n",
              "          100 :\n",
              "          Math.round((position / fileData.byteLength) * 100);\n",
              "      percent.textContent = `${percentDone}% done`;\n",
              "\n",
              "    } while (position < fileData.byteLength);\n",
              "  }\n",
              "\n",
              "  // All done.\n",
              "  yield {\n",
              "    response: {\n",
              "      action: 'complete',\n",
              "    }\n",
              "  };\n",
              "}\n",
              "\n",
              "scope.google = scope.google || {};\n",
              "scope.google.colab = scope.google.colab || {};\n",
              "scope.google.colab._files = {\n",
              "  _uploadFiles,\n",
              "  _uploadFilesContinue,\n",
              "};\n",
              "})(self);\n",
              "</script> "
            ]
          },
          "metadata": {}
        },
        {
          "output_type": "stream",
          "name": "stdout",
          "text": [
            "Saving data.zip to data.zip\n"
          ]
        }
      ]
    },
    {
      "cell_type": "code",
      "source": [
        "!unzip /content/data.zip"
      ],
      "metadata": {
        "colab": {
          "base_uri": "https://localhost:8080/"
        },
        "id": "7x7JIKQ1wlvw",
        "outputId": "e6e90b80-c8ce-47b8-d82f-0864d220e2f8"
      },
      "execution_count": null,
      "outputs": [
        {
          "output_type": "stream",
          "name": "stdout",
          "text": [
            "Archive:  /content/data.zip\n",
            "  inflating: 1year.arff              \n",
            "  inflating: 2year.arff              \n",
            "  inflating: 3year.arff              \n",
            "  inflating: 4year.arff              \n",
            "  inflating: 5year.arff              \n"
          ]
        }
      ]
    },
    {
      "cell_type": "code",
      "source": [
        "# Loads the 5 raw .arff files into a list\n",
        "def load_arff_raw_data():\n",
        "    N=5\n",
        "    return [arff.loadarff('/content/' + str(i+1) + 'year.arff') for i in range(N)]\n",
        "\n",
        "############################################################\n",
        "# Loads the 5 raw .arff files into pandas dataframes\n",
        "def load_dataframes():\n",
        "    return [pd.DataFrame(data_i_year[0]) for data_i_year in load_arff_raw_data()]\n",
        "\n",
        "############################################################\n",
        "# Set the column headers from X1 ... X64 and the class label as Y, for all the 5 dataframes.\n",
        "def set_new_headers(dataframes):\n",
        "    cols = ['X' + str(i+1) for i in range(len(dataframes[0].columns)-1)]\n",
        "    cols.append('bankrupt')\n",
        "    for df in dataframes:\n",
        "        df.columns = cols\n",
        "\n",
        "############################################################\n",
        "# dataframes is the list of pandas dataframes for the 5 year datafiles.  \n",
        "dataframes = load_dataframes()\n",
        "\n",
        "# Set the new headers for the dataframes. The new headers will have the renamed set of feature (X1 to X64)\n",
        "set_new_headers(dataframes)    \n",
        "\n",
        "# print the first 5 rows of a dataset 'year1'\n",
        "df = pd.concat(dataframes)\n",
        "df.head()"
      ],
      "metadata": {
        "colab": {
          "base_uri": "https://localhost:8080/",
          "height": 235
        },
        "id": "1quDLiHDttsT",
        "outputId": "fc161b25-9b2b-48d5-bfef-0feac4ebf785"
      },
      "execution_count": null,
      "outputs": [
        {
          "output_type": "execute_result",
          "data": {
            "text/plain": [
              "         X1       X2       X3      X4       X5       X6        X7       X8  \\\n",
              "0  0.200550  0.37951  0.39641  2.0472  32.3510  0.38825  0.249760  1.33050   \n",
              "1  0.209120  0.49988  0.47225  1.9447  14.7860  0.00000  0.258340  0.99601   \n",
              "2  0.248660  0.69592  0.26713  1.5548  -1.1523  0.00000  0.309060  0.43695   \n",
              "3  0.081483  0.30734  0.45879  2.4928  51.9520  0.14988  0.092704  1.86610   \n",
              "4  0.187320  0.61323  0.22960  1.4063  -7.3128  0.18732  0.187320  0.63070   \n",
              "\n",
              "       X9      X10  ...       X56      X57      X58       X59     X60     X61  \\\n",
              "0  1.1389  0.50494  ...  0.121960  0.39718  0.87804  0.001924  8.4160  5.1372   \n",
              "1  1.6996  0.49788  ...  0.121300  0.42002  0.85300  0.000000  4.1486  3.2732   \n",
              "2  1.3090  0.30408  ...  0.241140  0.81774  0.76599  0.694840  4.9909  3.9510   \n",
              "3  1.0571  0.57353  ...  0.054015  0.14207  0.94598  0.000000  4.5746  3.6147   \n",
              "4  1.1559  0.38677  ...  0.134850  0.48431  0.86515  0.124440  6.3985  4.3158   \n",
              "\n",
              "       X62     X63      X64  bankrupt  \n",
              "0   82.658  4.4158   7.4277      b'0'  \n",
              "1  107.350  3.4000  60.9870      b'0'  \n",
              "2  134.270  2.7185   5.2078      b'0'  \n",
              "3   86.435  4.2228   5.5497      b'0'  \n",
              "4  127.210  2.8692   7.8980      b'0'  \n",
              "\n",
              "[5 rows x 65 columns]"
            ],
            "text/html": [
              "\n",
              "  <div id=\"df-4513021e-87f6-46cc-9a49-83b0f2ae36da\">\n",
              "    <div class=\"colab-df-container\">\n",
              "      <div>\n",
              "<style scoped>\n",
              "    .dataframe tbody tr th:only-of-type {\n",
              "        vertical-align: middle;\n",
              "    }\n",
              "\n",
              "    .dataframe tbody tr th {\n",
              "        vertical-align: top;\n",
              "    }\n",
              "\n",
              "    .dataframe thead th {\n",
              "        text-align: right;\n",
              "    }\n",
              "</style>\n",
              "<table border=\"1\" class=\"dataframe\">\n",
              "  <thead>\n",
              "    <tr style=\"text-align: right;\">\n",
              "      <th></th>\n",
              "      <th>X1</th>\n",
              "      <th>X2</th>\n",
              "      <th>X3</th>\n",
              "      <th>X4</th>\n",
              "      <th>X5</th>\n",
              "      <th>X6</th>\n",
              "      <th>X7</th>\n",
              "      <th>X8</th>\n",
              "      <th>X9</th>\n",
              "      <th>X10</th>\n",
              "      <th>...</th>\n",
              "      <th>X56</th>\n",
              "      <th>X57</th>\n",
              "      <th>X58</th>\n",
              "      <th>X59</th>\n",
              "      <th>X60</th>\n",
              "      <th>X61</th>\n",
              "      <th>X62</th>\n",
              "      <th>X63</th>\n",
              "      <th>X64</th>\n",
              "      <th>bankrupt</th>\n",
              "    </tr>\n",
              "  </thead>\n",
              "  <tbody>\n",
              "    <tr>\n",
              "      <th>0</th>\n",
              "      <td>0.200550</td>\n",
              "      <td>0.37951</td>\n",
              "      <td>0.39641</td>\n",
              "      <td>2.0472</td>\n",
              "      <td>32.3510</td>\n",
              "      <td>0.38825</td>\n",
              "      <td>0.249760</td>\n",
              "      <td>1.33050</td>\n",
              "      <td>1.1389</td>\n",
              "      <td>0.50494</td>\n",
              "      <td>...</td>\n",
              "      <td>0.121960</td>\n",
              "      <td>0.39718</td>\n",
              "      <td>0.87804</td>\n",
              "      <td>0.001924</td>\n",
              "      <td>8.4160</td>\n",
              "      <td>5.1372</td>\n",
              "      <td>82.658</td>\n",
              "      <td>4.4158</td>\n",
              "      <td>7.4277</td>\n",
              "      <td>b'0'</td>\n",
              "    </tr>\n",
              "    <tr>\n",
              "      <th>1</th>\n",
              "      <td>0.209120</td>\n",
              "      <td>0.49988</td>\n",
              "      <td>0.47225</td>\n",
              "      <td>1.9447</td>\n",
              "      <td>14.7860</td>\n",
              "      <td>0.00000</td>\n",
              "      <td>0.258340</td>\n",
              "      <td>0.99601</td>\n",
              "      <td>1.6996</td>\n",
              "      <td>0.49788</td>\n",
              "      <td>...</td>\n",
              "      <td>0.121300</td>\n",
              "      <td>0.42002</td>\n",
              "      <td>0.85300</td>\n",
              "      <td>0.000000</td>\n",
              "      <td>4.1486</td>\n",
              "      <td>3.2732</td>\n",
              "      <td>107.350</td>\n",
              "      <td>3.4000</td>\n",
              "      <td>60.9870</td>\n",
              "      <td>b'0'</td>\n",
              "    </tr>\n",
              "    <tr>\n",
              "      <th>2</th>\n",
              "      <td>0.248660</td>\n",
              "      <td>0.69592</td>\n",
              "      <td>0.26713</td>\n",
              "      <td>1.5548</td>\n",
              "      <td>-1.1523</td>\n",
              "      <td>0.00000</td>\n",
              "      <td>0.309060</td>\n",
              "      <td>0.43695</td>\n",
              "      <td>1.3090</td>\n",
              "      <td>0.30408</td>\n",
              "      <td>...</td>\n",
              "      <td>0.241140</td>\n",
              "      <td>0.81774</td>\n",
              "      <td>0.76599</td>\n",
              "      <td>0.694840</td>\n",
              "      <td>4.9909</td>\n",
              "      <td>3.9510</td>\n",
              "      <td>134.270</td>\n",
              "      <td>2.7185</td>\n",
              "      <td>5.2078</td>\n",
              "      <td>b'0'</td>\n",
              "    </tr>\n",
              "    <tr>\n",
              "      <th>3</th>\n",
              "      <td>0.081483</td>\n",
              "      <td>0.30734</td>\n",
              "      <td>0.45879</td>\n",
              "      <td>2.4928</td>\n",
              "      <td>51.9520</td>\n",
              "      <td>0.14988</td>\n",
              "      <td>0.092704</td>\n",
              "      <td>1.86610</td>\n",
              "      <td>1.0571</td>\n",
              "      <td>0.57353</td>\n",
              "      <td>...</td>\n",
              "      <td>0.054015</td>\n",
              "      <td>0.14207</td>\n",
              "      <td>0.94598</td>\n",
              "      <td>0.000000</td>\n",
              "      <td>4.5746</td>\n",
              "      <td>3.6147</td>\n",
              "      <td>86.435</td>\n",
              "      <td>4.2228</td>\n",
              "      <td>5.5497</td>\n",
              "      <td>b'0'</td>\n",
              "    </tr>\n",
              "    <tr>\n",
              "      <th>4</th>\n",
              "      <td>0.187320</td>\n",
              "      <td>0.61323</td>\n",
              "      <td>0.22960</td>\n",
              "      <td>1.4063</td>\n",
              "      <td>-7.3128</td>\n",
              "      <td>0.18732</td>\n",
              "      <td>0.187320</td>\n",
              "      <td>0.63070</td>\n",
              "      <td>1.1559</td>\n",
              "      <td>0.38677</td>\n",
              "      <td>...</td>\n",
              "      <td>0.134850</td>\n",
              "      <td>0.48431</td>\n",
              "      <td>0.86515</td>\n",
              "      <td>0.124440</td>\n",
              "      <td>6.3985</td>\n",
              "      <td>4.3158</td>\n",
              "      <td>127.210</td>\n",
              "      <td>2.8692</td>\n",
              "      <td>7.8980</td>\n",
              "      <td>b'0'</td>\n",
              "    </tr>\n",
              "  </tbody>\n",
              "</table>\n",
              "<p>5 rows × 65 columns</p>\n",
              "</div>\n",
              "      <button class=\"colab-df-convert\" onclick=\"convertToInteractive('df-4513021e-87f6-46cc-9a49-83b0f2ae36da')\"\n",
              "              title=\"Convert this dataframe to an interactive table.\"\n",
              "              style=\"display:none;\">\n",
              "        \n",
              "  <svg xmlns=\"http://www.w3.org/2000/svg\" height=\"24px\"viewBox=\"0 0 24 24\"\n",
              "       width=\"24px\">\n",
              "    <path d=\"M0 0h24v24H0V0z\" fill=\"none\"/>\n",
              "    <path d=\"M18.56 5.44l.94 2.06.94-2.06 2.06-.94-2.06-.94-.94-2.06-.94 2.06-2.06.94zm-11 1L8.5 8.5l.94-2.06 2.06-.94-2.06-.94L8.5 2.5l-.94 2.06-2.06.94zm10 10l.94 2.06.94-2.06 2.06-.94-2.06-.94-.94-2.06-.94 2.06-2.06.94z\"/><path d=\"M17.41 7.96l-1.37-1.37c-.4-.4-.92-.59-1.43-.59-.52 0-1.04.2-1.43.59L10.3 9.45l-7.72 7.72c-.78.78-.78 2.05 0 2.83L4 21.41c.39.39.9.59 1.41.59.51 0 1.02-.2 1.41-.59l7.78-7.78 2.81-2.81c.8-.78.8-2.07 0-2.86zM5.41 20L4 18.59l7.72-7.72 1.47 1.35L5.41 20z\"/>\n",
              "  </svg>\n",
              "      </button>\n",
              "      \n",
              "  <style>\n",
              "    .colab-df-container {\n",
              "      display:flex;\n",
              "      flex-wrap:wrap;\n",
              "      gap: 12px;\n",
              "    }\n",
              "\n",
              "    .colab-df-convert {\n",
              "      background-color: #E8F0FE;\n",
              "      border: none;\n",
              "      border-radius: 50%;\n",
              "      cursor: pointer;\n",
              "      display: none;\n",
              "      fill: #1967D2;\n",
              "      height: 32px;\n",
              "      padding: 0 0 0 0;\n",
              "      width: 32px;\n",
              "    }\n",
              "\n",
              "    .colab-df-convert:hover {\n",
              "      background-color: #E2EBFA;\n",
              "      box-shadow: 0px 1px 2px rgba(60, 64, 67, 0.3), 0px 1px 3px 1px rgba(60, 64, 67, 0.15);\n",
              "      fill: #174EA6;\n",
              "    }\n",
              "\n",
              "    [theme=dark] .colab-df-convert {\n",
              "      background-color: #3B4455;\n",
              "      fill: #D2E3FC;\n",
              "    }\n",
              "\n",
              "    [theme=dark] .colab-df-convert:hover {\n",
              "      background-color: #434B5C;\n",
              "      box-shadow: 0px 1px 3px 1px rgba(0, 0, 0, 0.15);\n",
              "      filter: drop-shadow(0px 1px 2px rgba(0, 0, 0, 0.3));\n",
              "      fill: #FFFFFF;\n",
              "    }\n",
              "  </style>\n",
              "\n",
              "      <script>\n",
              "        const buttonEl =\n",
              "          document.querySelector('#df-4513021e-87f6-46cc-9a49-83b0f2ae36da button.colab-df-convert');\n",
              "        buttonEl.style.display =\n",
              "          google.colab.kernel.accessAllowed ? 'block' : 'none';\n",
              "\n",
              "        async function convertToInteractive(key) {\n",
              "          const element = document.querySelector('#df-4513021e-87f6-46cc-9a49-83b0f2ae36da');\n",
              "          const dataTable =\n",
              "            await google.colab.kernel.invokeFunction('convertToInteractive',\n",
              "                                                     [key], {});\n",
              "          if (!dataTable) return;\n",
              "\n",
              "          const docLinkHtml = 'Like what you see? Visit the ' +\n",
              "            '<a target=\"_blank\" href=https://colab.research.google.com/notebooks/data_table.ipynb>data table notebook</a>'\n",
              "            + ' to learn more about interactive tables.';\n",
              "          element.innerHTML = '';\n",
              "          dataTable['output_type'] = 'display_data';\n",
              "          await google.colab.output.renderOutput(dataTable, element);\n",
              "          const docLink = document.createElement('div');\n",
              "          docLink.innerHTML = docLinkHtml;\n",
              "          element.appendChild(docLink);\n",
              "        }\n",
              "      </script>\n",
              "    </div>\n",
              "  </div>\n",
              "  "
            ]
          },
          "metadata": {},
          "execution_count": 4
        }
      ]
    },
    {
      "cell_type": "code",
      "source": [
        "# The class labels for all the dataframes are originally in object type.\n",
        "# Convert them to int types\n",
        "def convert_class_label_type_int(df):\n",
        "    col = getattr(df, 'bankrupt')\n",
        "    df['bankrupt'] = col.astype(int)\n",
        "        \n",
        "convert_class_label_type_int(df)\n",
        "df.info()"
      ],
      "metadata": {
        "colab": {
          "base_uri": "https://localhost:8080/"
        },
        "id": "_YG6oEgDuoZT",
        "outputId": "a99e34f0-90bb-45cb-cd84-717e66ae07d2"
      },
      "execution_count": null,
      "outputs": [
        {
          "output_type": "stream",
          "name": "stdout",
          "text": [
            "<class 'pandas.core.frame.DataFrame'>\n",
            "Int64Index: 43405 entries, 0 to 5909\n",
            "Data columns (total 65 columns):\n",
            " #   Column    Non-Null Count  Dtype  \n",
            "---  ------    --------------  -----  \n",
            " 0   X1        43397 non-null  float64\n",
            " 1   X2        43397 non-null  float64\n",
            " 2   X3        43397 non-null  float64\n",
            " 3   X4        43271 non-null  float64\n",
            " 4   X5        43316 non-null  float64\n",
            " 5   X6        43397 non-null  float64\n",
            " 6   X7        43397 non-null  float64\n",
            " 7   X8        43311 non-null  float64\n",
            " 8   X9        43396 non-null  float64\n",
            " 9   X10       43397 non-null  float64\n",
            " 10  X11       43361 non-null  float64\n",
            " 11  X12       43271 non-null  float64\n",
            " 12  X13       43278 non-null  float64\n",
            " 13  X14       43397 non-null  float64\n",
            " 14  X15       43369 non-null  float64\n",
            " 15  X16       43310 non-null  float64\n",
            " 16  X17       43311 non-null  float64\n",
            " 17  X18       43397 non-null  float64\n",
            " 18  X19       43277 non-null  float64\n",
            " 19  X20       43278 non-null  float64\n",
            " 20  X21       37551 non-null  float64\n",
            " 21  X22       43397 non-null  float64\n",
            " 22  X23       43278 non-null  float64\n",
            " 23  X24       42483 non-null  float64\n",
            " 24  X25       43397 non-null  float64\n",
            " 25  X26       43310 non-null  float64\n",
            " 26  X27       40641 non-null  float64\n",
            " 27  X28       42593 non-null  float64\n",
            " 28  X29       43397 non-null  float64\n",
            " 29  X30       43278 non-null  float64\n",
            " 30  X31       43278 non-null  float64\n",
            " 31  X32       43037 non-null  float64\n",
            " 32  X33       43271 non-null  float64\n",
            " 33  X34       43311 non-null  float64\n",
            " 34  X35       43397 non-null  float64\n",
            " 35  X36       43397 non-null  float64\n",
            " 36  X37       24421 non-null  float64\n",
            " 37  X38       43397 non-null  float64\n",
            " 38  X39       43278 non-null  float64\n",
            " 39  X40       43271 non-null  float64\n",
            " 40  X41       42651 non-null  float64\n",
            " 41  X42       43278 non-null  float64\n",
            " 42  X43       43278 non-null  float64\n",
            " 43  X44       43278 non-null  float64\n",
            " 44  X45       41258 non-null  float64\n",
            " 45  X46       43270 non-null  float64\n",
            " 46  X47       43108 non-null  float64\n",
            " 47  X48       43396 non-null  float64\n",
            " 48  X49       43278 non-null  float64\n",
            " 49  X50       43311 non-null  float64\n",
            " 50  X51       43397 non-null  float64\n",
            " 51  X52       43104 non-null  float64\n",
            " 52  X53       42593 non-null  float64\n",
            " 53  X54       42593 non-null  float64\n",
            " 54  X55       43404 non-null  float64\n",
            " 55  X56       43278 non-null  float64\n",
            " 56  X57       43398 non-null  float64\n",
            " 57  X58       43321 non-null  float64\n",
            " 58  X59       43398 non-null  float64\n",
            " 59  X60       41253 non-null  float64\n",
            " 60  X61       43303 non-null  float64\n",
            " 61  X62       43278 non-null  float64\n",
            " 62  X63       43271 non-null  float64\n",
            " 63  X64       42593 non-null  float64\n",
            " 64  bankrupt  43405 non-null  int64  \n",
            "dtypes: float64(64), int64(1)\n",
            "memory usage: 21.9 MB\n"
          ]
        }
      ]
    },
    {
      "cell_type": "code",
      "source": [
        "def convert_columns_type_float(df):\n",
        "    for i in range(1, df.shape[1] - 1):\n",
        "        colname = df.columns[i]\n",
        "        col = getattr(df, colname)\n",
        "        df[colname] = col.astype(float)\n",
        "\n",
        "convert_columns_type_float(df)\n",
        "df.info()"
      ],
      "metadata": {
        "colab": {
          "base_uri": "https://localhost:8080/"
        },
        "id": "z041XJ1K3O17",
        "outputId": "40046dbf-fbf2-4bbc-da39-3366be5a3229"
      },
      "execution_count": null,
      "outputs": [
        {
          "output_type": "stream",
          "name": "stdout",
          "text": [
            "<class 'pandas.core.frame.DataFrame'>\n",
            "Int64Index: 43405 entries, 0 to 5909\n",
            "Data columns (total 65 columns):\n",
            " #   Column    Non-Null Count  Dtype  \n",
            "---  ------    --------------  -----  \n",
            " 0   X1        43397 non-null  float64\n",
            " 1   X2        43397 non-null  float64\n",
            " 2   X3        43397 non-null  float64\n",
            " 3   X4        43271 non-null  float64\n",
            " 4   X5        43316 non-null  float64\n",
            " 5   X6        43397 non-null  float64\n",
            " 6   X7        43397 non-null  float64\n",
            " 7   X8        43311 non-null  float64\n",
            " 8   X9        43396 non-null  float64\n",
            " 9   X10       43397 non-null  float64\n",
            " 10  X11       43361 non-null  float64\n",
            " 11  X12       43271 non-null  float64\n",
            " 12  X13       43278 non-null  float64\n",
            " 13  X14       43397 non-null  float64\n",
            " 14  X15       43369 non-null  float64\n",
            " 15  X16       43310 non-null  float64\n",
            " 16  X17       43311 non-null  float64\n",
            " 17  X18       43397 non-null  float64\n",
            " 18  X19       43277 non-null  float64\n",
            " 19  X20       43278 non-null  float64\n",
            " 20  X21       37551 non-null  float64\n",
            " 21  X22       43397 non-null  float64\n",
            " 22  X23       43278 non-null  float64\n",
            " 23  X24       42483 non-null  float64\n",
            " 24  X25       43397 non-null  float64\n",
            " 25  X26       43310 non-null  float64\n",
            " 26  X27       40641 non-null  float64\n",
            " 27  X28       42593 non-null  float64\n",
            " 28  X29       43397 non-null  float64\n",
            " 29  X30       43278 non-null  float64\n",
            " 30  X31       43278 non-null  float64\n",
            " 31  X32       43037 non-null  float64\n",
            " 32  X33       43271 non-null  float64\n",
            " 33  X34       43311 non-null  float64\n",
            " 34  X35       43397 non-null  float64\n",
            " 35  X36       43397 non-null  float64\n",
            " 36  X37       24421 non-null  float64\n",
            " 37  X38       43397 non-null  float64\n",
            " 38  X39       43278 non-null  float64\n",
            " 39  X40       43271 non-null  float64\n",
            " 40  X41       42651 non-null  float64\n",
            " 41  X42       43278 non-null  float64\n",
            " 42  X43       43278 non-null  float64\n",
            " 43  X44       43278 non-null  float64\n",
            " 44  X45       41258 non-null  float64\n",
            " 45  X46       43270 non-null  float64\n",
            " 46  X47       43108 non-null  float64\n",
            " 47  X48       43396 non-null  float64\n",
            " 48  X49       43278 non-null  float64\n",
            " 49  X50       43311 non-null  float64\n",
            " 50  X51       43397 non-null  float64\n",
            " 51  X52       43104 non-null  float64\n",
            " 52  X53       42593 non-null  float64\n",
            " 53  X54       42593 non-null  float64\n",
            " 54  X55       43404 non-null  float64\n",
            " 55  X56       43278 non-null  float64\n",
            " 56  X57       43398 non-null  float64\n",
            " 57  X58       43321 non-null  float64\n",
            " 58  X59       43398 non-null  float64\n",
            " 59  X60       41253 non-null  float64\n",
            " 60  X61       43303 non-null  float64\n",
            " 61  X62       43278 non-null  float64\n",
            " 62  X63       43271 non-null  float64\n",
            " 63  X64       42593 non-null  float64\n",
            " 64  bankrupt  43405 non-null  int64  \n",
            "dtypes: float64(64), int64(1)\n",
            "memory usage: 21.9 MB\n"
          ]
        }
      ]
    },
    {
      "cell_type": "code",
      "source": [
        "df.shape[1]"
      ],
      "metadata": {
        "colab": {
          "base_uri": "https://localhost:8080/"
        },
        "id": "BjIpQv9e3_8d",
        "outputId": "3b505a84-494f-4df1-d6b0-dc3c20b6c0ea"
      },
      "execution_count": null,
      "outputs": [
        {
          "output_type": "execute_result",
          "data": {
            "text/plain": [
              "65"
            ]
          },
          "metadata": {},
          "execution_count": 7
        }
      ]
    },
    {
      "cell_type": "code",
      "source": [
        "# Plot class balance\n",
        "df[\"bankrupt\"].value_counts(normalize = True).plot(kind = \"bar\", xlabel = \"Bankrupt\", ylabel = \"Frequency\", title = \"Class Balance\")"
      ],
      "metadata": {
        "colab": {
          "base_uri": "https://localhost:8080/",
          "height": 309
        },
        "id": "zdRz456K6YmK",
        "outputId": "fefd5737-d821-4242-c4ba-59e9407c4fdd"
      },
      "execution_count": null,
      "outputs": [
        {
          "output_type": "execute_result",
          "data": {
            "text/plain": [
              "<AxesSubplot:title={'center':'Class Balance'}, xlabel='Bankrupt', ylabel='Frequency'>"
            ]
          },
          "metadata": {},
          "execution_count": 8
        },
        {
          "output_type": "display_data",
          "data": {
            "text/plain": [
              "<Figure size 432x288 with 1 Axes>"
            ],
            "image/png": "[encoded data removed]"
          },
          "metadata": {
            "needs_background": "light"
          }
        }
      ]
    },
    {
      "cell_type": "code",
      "source": [
        "# Create boxplot\n",
        "sns.boxplot(x = df[\"bankrupt\"], y = df[\"X27\"])\n",
        "plt.xlabel(\"Bankrupt\")\n",
        "plt.ylabel(\"POA / financial expenses\")\n",
        "plt.title(\"Distribution of Profit/Expenses Ratio, by Class\");"
      ],
      "metadata": {
        "colab": {
          "base_uri": "https://localhost:8080/",
          "height": 295
        },
        "id": "2EeLjiYS6aB9",
        "outputId": "ce02c7cc-06f2-4786-c3c8-8e2190029633"
      },
      "execution_count": null,
      "outputs": [
        {
          "output_type": "display_data",
          "data": {
            "text/plain": [
              "<Figure size 432x288 with 1 Axes>"
            ],
            "image/png": "[encoded data removed]"
          },
          "metadata": {
            "needs_background": "light"
          }
        }
      ]
    },
    {
      "cell_type": "code",
      "source": [
        "df[\"X27\"].describe()"
      ],
      "metadata": {
        "colab": {
          "base_uri": "https://localhost:8080/"
        },
        "id": "qZSDEauO6bU3",
        "outputId": "6b368e80-e66d-4a3f-b1d2-308be622f531"
      },
      "execution_count": null,
      "outputs": [
        {
          "output_type": "execute_result",
          "data": {
            "text/plain": [
              "count    4.064100e+04\n",
              "mean     1.107896e+03\n",
              "std      3.501237e+04\n",
              "min     -2.590100e+05\n",
              "25%      4.504800e-02\n",
              "50%      1.084100e+00\n",
              "75%      5.139300e+00\n",
              "max      4.208800e+06\n",
              "Name: X27, dtype: float64"
            ]
          },
          "metadata": {},
          "execution_count": 10
        }
      ]
    },
    {
      "cell_type": "code",
      "source": [
        "# Plot histogram of `feat_27`\n",
        "plt.hist(df[\"X27\"])\n",
        "plt.xlabel(\"POA / financial expenses\")\n",
        "plt.ylabel(\"Count\"),\n",
        "plt.title(\"Distribution of Profit/Expenses Ratio\");"
      ],
      "metadata": {
        "colab": {
          "base_uri": "https://localhost:8080/",
          "height": 295
        },
        "id": "4zeDaiaa6oQC",
        "outputId": "a3e3e81d-c773-43c6-90be-e9cfb341e5f9"
      },
      "execution_count": null,
      "outputs": [
        {
          "output_type": "display_data",
          "data": {
            "text/plain": [
              "<Figure size 432x288 with 1 Axes>"
            ],
            "image/png": "[encoded data removed]"
          },
          "metadata": {
            "needs_background": "light"
          }
        }
      ]
    },
    {
      "cell_type": "code",
      "source": [
        "q1, q9 = df[\"X27\"].quantile([0.1, 0.9])\n",
        "mask = df[\"X27\"].between(q1, q9)\n",
        "mask.head()"
      ],
      "metadata": {
        "colab": {
          "base_uri": "https://localhost:8080/"
        },
        "id": "NRr1Ifj-6sC1",
        "outputId": "bfa030fd-3e9e-4585-edd4-da78c2e6445d"
      },
      "execution_count": null,
      "outputs": [
        {
          "output_type": "execute_result",
          "data": {
            "text/plain": [
              "0     True\n",
              "1    False\n",
              "2    False\n",
              "3     True\n",
              "4     True\n",
              "Name: X27, dtype: bool"
            ]
          },
          "metadata": {},
          "execution_count": 12
        }
      ]
    },
    {
      "cell_type": "code",
      "source": [
        "# Create clipped boxplot\n",
        "sns.boxplot(x = \"bankrupt\", y = \"X27\", data = df[mask])\n",
        "plt.xlabel(\"Bankrupt\")\n",
        "plt.ylabel(\"POA / financial expenses\")\n",
        "plt.title(\"Distribution of Profit/Expenses Ratio, by Bankruptcy Status\");"
      ],
      "metadata": {
        "colab": {
          "base_uri": "https://localhost:8080/",
          "height": 295
        },
        "id": "jrgYm0RQ6wdF",
        "outputId": "8def500f-e873-4ca7-9fe9-8ba8b46b4db8"
      },
      "execution_count": null,
      "outputs": [
        {
          "output_type": "display_data",
          "data": {
            "text/plain": [
              "<Figure size 432x288 with 1 Axes>"
            ],
            "image/png": "[encoded data removed]"
          },
          "metadata": {
            "needs_background": "light"
          }
        }
      ]
    },
    {
      "cell_type": "code",
      "source": [
        "corr = df.drop(columns = \"bankrupt\").corr()\n",
        "sns.heatmap(corr)"
      ],
      "metadata": {
        "colab": {
          "base_uri": "https://localhost:8080/",
          "height": 296
        },
        "id": "eRoMzHsA6yid",
        "outputId": "c069998a-58a4-4be2-9b68-d9d033098115"
      },
      "execution_count": null,
      "outputs": [
        {
          "output_type": "execute_result",
          "data": {
            "text/plain": [
              "<AxesSubplot:>"
            ]
          },
          "metadata": {},
          "execution_count": 14
        },
        {
          "output_type": "display_data",
          "data": {
            "text/plain": [
              "<Figure size 432x288 with 2 Axes>"
            ],
            "image/png": "[encoded data removed]"
          },
          "metadata": {
            "needs_background": "light"
          }
        }
      ]
    },
    {
      "cell_type": "markdown",
      "source": [
        "### Data Split"
      ],
      "metadata": {
        "id": "cJ7dGgCG87DJ"
      }
    },
    {
      "cell_type": "code",
      "source": [
        "target = \"bankrupt\"\n",
        "X = df.drop(columns = [target])\n",
        "y = df[target]\n",
        "\n",
        "print(\"X shape:\", X.shape)\n",
        "print(\"y shape:\", y.shape)"
      ],
      "metadata": {
        "colab": {
          "base_uri": "https://localhost:8080/"
        },
        "id": "-Tydr8w162vo",
        "outputId": "88b1b5ff-72da-43fe-9c31-40e422acb584"
      },
      "execution_count": null,
      "outputs": [
        {
          "output_type": "stream",
          "name": "stdout",
          "text": [
            "X shape: (43405, 64)\n",
            "y shape: (43405,)\n"
          ]
        }
      ]
    },
    {
      "cell_type": "code",
      "source": [
        "X_train, X_test, y_train, y_test = train_test_split(X, y, test_size = 0.2, random_state = 42)\n",
        "\n",
        "print(\"X_train shape:\", X_train.shape)\n",
        "print(\"y_train shape:\", y_train.shape)\n",
        "print(\"X_test shape:\", X_test.shape)\n",
        "print(\"y_test shape:\", y_test.shape)"
      ],
      "metadata": {
        "colab": {
          "base_uri": "https://localhost:8080/"
        },
        "id": "gWxVdt2Z9KyL",
        "outputId": "fd76a3e1-b0d1-4211-ff28-01b9b4e25de6"
      },
      "execution_count": null,
      "outputs": [
        {
          "output_type": "stream",
          "name": "stdout",
          "text": [
            "X_train shape: (34724, 64)\n",
            "y_train shape: (34724,)\n",
            "X_test shape: (8681, 64)\n",
            "y_test shape: (8681,)\n"
          ]
        }
      ]
    },
    {
      "cell_type": "code",
      "source": [
        "under_sampler = RandomUnderSampler(random_state = 42)\n",
        "X_train_under, y_train_under = under_sampler.fit_resample(X_train, y_train)\n",
        "print(X_train_under.shape)\n",
        "X_train_under.head()"
      ],
      "metadata": {
        "colab": {
          "base_uri": "https://localhost:8080/",
          "height": 253
        },
        "id": "6Yx-AXje9VGY",
        "outputId": "e5aac673-f265-4142-8ac1-91c2183c9c06"
      },
      "execution_count": null,
      "outputs": [
        {
          "output_type": "stream",
          "name": "stdout",
          "text": [
            "(3300, 64)\n"
          ]
        },
        {
          "output_type": "execute_result",
          "data": {
            "text/plain": [
              "         X1        X2       X3      X4       X5   X6        X7        X8  \\\n",
              "0 -0.196780  0.725500  0.18188  3.0821   25.056  0.0 -0.238160   0.37837   \n",
              "1  0.341250  0.110950  0.59612  6.7003   30.043  0.0  0.420400   8.01330   \n",
              "2  0.011582  0.824950  0.09303  1.1902  -24.185  0.0  0.011582   0.21219   \n",
              "3  0.547970  0.077456  0.66822  9.7478  464.280  0.0  0.678620  11.91000   \n",
              "4 -0.022274  0.657270  0.29107  1.7282   17.059  0.0 -0.022274   0.52144   \n",
              "\n",
              "        X9      X10  ...      X55       X56       X57      X58     X59  \\\n",
              "0  0.65133  0.27450  ...  4016.60 -0.330730 -0.716850 -0.42584  2.0455   \n",
              "1  1.28400  0.88905  ...  6654.70  0.331860  0.383830  0.67452  0.0000   \n",
              "2  1.69320  0.17505  ...  1161.30  0.018158  0.066162  0.99328  1.6749   \n",
              "3  1.34210  0.92254  ...   796.30  0.597590  0.593980  0.50191  0.0000   \n",
              "4  1.32110  0.34273  ...   262.05 -0.803580 -0.064990  1.00940  0.0000   \n",
              "\n",
              "      X60      X61      X62      X63     X64  \n",
              "0  5.1974   6.0054   48.952   7.4563  0.8913  \n",
              "1  2.4704  12.9360   29.729  12.2780  4.2898  \n",
              "2  8.9392   4.4818  105.440   3.4618  4.0523  \n",
              "3     NaN  11.0110   20.775  17.5690  5.2551  \n",
              "4  7.4160   5.4275  110.440   3.3050  4.2729  \n",
              "\n",
              "[5 rows x 64 columns]"
            ],
            "text/html": [
              "\n",
              "  <div id=\"df-5f05fb1b-8e61-4206-a4bf-7fc5fd34f891\">\n",
              "    <div class=\"colab-df-container\">\n",
              "      <div>\n",
              "<style scoped>\n",
              "    .dataframe tbody tr th:only-of-type {\n",
              "        vertical-align: middle;\n",
              "    }\n",
              "\n",
              "    .dataframe tbody tr th {\n",
              "        vertical-align: top;\n",
              "    }\n",
              "\n",
              "    .dataframe thead th {\n",
              "        text-align: right;\n",
              "    }\n",
              "</style>\n",
              "<table border=\"1\" class=\"dataframe\">\n",
              "  <thead>\n",
              "    <tr style=\"text-align: right;\">\n",
              "      <th></th>\n",
              "      <th>X1</th>\n",
              "      <th>X2</th>\n",
              "      <th>X3</th>\n",
              "      <th>X4</th>\n",
              "      <th>X5</th>\n",
              "      <th>X6</th>\n",
              "      <th>X7</th>\n",
              "      <th>X8</th>\n",
              "      <th>X9</th>\n",
              "      <th>X10</th>\n",
              "      <th>...</th>\n",
              "      <th>X55</th>\n",
              "      <th>X56</th>\n",
              "      <th>X57</th>\n",
              "      <th>X58</th>\n",
              "      <th>X59</th>\n",
              "      <th>X60</th>\n",
              "      <th>X61</th>\n",
              "      <th>X62</th>\n",
              "      <th>X63</th>\n",
              "      <th>X64</th>\n",
              "    </tr>\n",
              "  </thead>\n",
              "  <tbody>\n",
              "    <tr>\n",
              "      <th>0</th>\n",
              "      <td>-0.196780</td>\n",
              "      <td>0.725500</td>\n",
              "      <td>0.18188</td>\n",
              "      <td>3.0821</td>\n",
              "      <td>25.056</td>\n",
              "      <td>0.0</td>\n",
              "      <td>-0.238160</td>\n",
              "      <td>0.37837</td>\n",
              "      <td>0.65133</td>\n",
              "      <td>0.27450</td>\n",
              "      <td>...</td>\n",
              "      <td>4016.60</td>\n",
              "      <td>-0.330730</td>\n",
              "      <td>-0.716850</td>\n",
              "      <td>-0.42584</td>\n",
              "      <td>2.0455</td>\n",
              "      <td>5.1974</td>\n",
              "      <td>6.0054</td>\n",
              "      <td>48.952</td>\n",
              "      <td>7.4563</td>\n",
              "      <td>0.8913</td>\n",
              "    </tr>\n",
              "    <tr>\n",
              "      <th>1</th>\n",
              "      <td>0.341250</td>\n",
              "      <td>0.110950</td>\n",
              "      <td>0.59612</td>\n",
              "      <td>6.7003</td>\n",
              "      <td>30.043</td>\n",
              "      <td>0.0</td>\n",
              "      <td>0.420400</td>\n",
              "      <td>8.01330</td>\n",
              "      <td>1.28400</td>\n",
              "      <td>0.88905</td>\n",
              "      <td>...</td>\n",
              "      <td>6654.70</td>\n",
              "      <td>0.331860</td>\n",
              "      <td>0.383830</td>\n",
              "      <td>0.67452</td>\n",
              "      <td>0.0000</td>\n",
              "      <td>2.4704</td>\n",
              "      <td>12.9360</td>\n",
              "      <td>29.729</td>\n",
              "      <td>12.2780</td>\n",
              "      <td>4.2898</td>\n",
              "    </tr>\n",
              "    <tr>\n",
              "      <th>2</th>\n",
              "      <td>0.011582</td>\n",
              "      <td>0.824950</td>\n",
              "      <td>0.09303</td>\n",
              "      <td>1.1902</td>\n",
              "      <td>-24.185</td>\n",
              "      <td>0.0</td>\n",
              "      <td>0.011582</td>\n",
              "      <td>0.21219</td>\n",
              "      <td>1.69320</td>\n",
              "      <td>0.17505</td>\n",
              "      <td>...</td>\n",
              "      <td>1161.30</td>\n",
              "      <td>0.018158</td>\n",
              "      <td>0.066162</td>\n",
              "      <td>0.99328</td>\n",
              "      <td>1.6749</td>\n",
              "      <td>8.9392</td>\n",
              "      <td>4.4818</td>\n",
              "      <td>105.440</td>\n",
              "      <td>3.4618</td>\n",
              "      <td>4.0523</td>\n",
              "    </tr>\n",
              "    <tr>\n",
              "      <th>3</th>\n",
              "      <td>0.547970</td>\n",
              "      <td>0.077456</td>\n",
              "      <td>0.66822</td>\n",
              "      <td>9.7478</td>\n",
              "      <td>464.280</td>\n",
              "      <td>0.0</td>\n",
              "      <td>0.678620</td>\n",
              "      <td>11.91000</td>\n",
              "      <td>1.34210</td>\n",
              "      <td>0.92254</td>\n",
              "      <td>...</td>\n",
              "      <td>796.30</td>\n",
              "      <td>0.597590</td>\n",
              "      <td>0.593980</td>\n",
              "      <td>0.50191</td>\n",
              "      <td>0.0000</td>\n",
              "      <td>NaN</td>\n",
              "      <td>11.0110</td>\n",
              "      <td>20.775</td>\n",
              "      <td>17.5690</td>\n",
              "      <td>5.2551</td>\n",
              "    </tr>\n",
              "    <tr>\n",
              "      <th>4</th>\n",
              "      <td>-0.022274</td>\n",
              "      <td>0.657270</td>\n",
              "      <td>0.29107</td>\n",
              "      <td>1.7282</td>\n",
              "      <td>17.059</td>\n",
              "      <td>0.0</td>\n",
              "      <td>-0.022274</td>\n",
              "      <td>0.52144</td>\n",
              "      <td>1.32110</td>\n",
              "      <td>0.34273</td>\n",
              "      <td>...</td>\n",
              "      <td>262.05</td>\n",
              "      <td>-0.803580</td>\n",
              "      <td>-0.064990</td>\n",
              "      <td>1.00940</td>\n",
              "      <td>0.0000</td>\n",
              "      <td>7.4160</td>\n",
              "      <td>5.4275</td>\n",
              "      <td>110.440</td>\n",
              "      <td>3.3050</td>\n",
              "      <td>4.2729</td>\n",
              "    </tr>\n",
              "  </tbody>\n",
              "</table>\n",
              "<p>5 rows × 64 columns</p>\n",
              "</div>\n",
              "      <button class=\"colab-df-convert\" onclick=\"convertToInteractive('df-5f05fb1b-8e61-4206-a4bf-7fc5fd34f891')\"\n",
              "              title=\"Convert this dataframe to an interactive table.\"\n",
              "              style=\"display:none;\">\n",
              "        \n",
              "  <svg xmlns=\"http://www.w3.org/2000/svg\" height=\"24px\"viewBox=\"0 0 24 24\"\n",
              "       width=\"24px\">\n",
              "    <path d=\"M0 0h24v24H0V0z\" fill=\"none\"/>\n",
              "    <path d=\"M18.56 5.44l.94 2.06.94-2.06 2.06-.94-2.06-.94-.94-2.06-.94 2.06-2.06.94zm-11 1L8.5 8.5l.94-2.06 2.06-.94-2.06-.94L8.5 2.5l-.94 2.06-2.06.94zm10 10l.94 2.06.94-2.06 2.06-.94-2.06-.94-.94-2.06-.94 2.06-2.06.94z\"/><path d=\"M17.41 7.96l-1.37-1.37c-.4-.4-.92-.59-1.43-.59-.52 0-1.04.2-1.43.59L10.3 9.45l-7.72 7.72c-.78.78-.78 2.05 0 2.83L4 21.41c.39.39.9.59 1.41.59.51 0 1.02-.2 1.41-.59l7.78-7.78 2.81-2.81c.8-.78.8-2.07 0-2.86zM5.41 20L4 18.59l7.72-7.72 1.47 1.35L5.41 20z\"/>\n",
              "  </svg>\n",
              "      </button>\n",
              "      \n",
              "  <style>\n",
              "    .colab-df-container {\n",
              "      display:flex;\n",
              "      flex-wrap:wrap;\n",
              "      gap: 12px;\n",
              "    }\n",
              "\n",
              "    .colab-df-convert {\n",
              "      background-color: #E8F0FE;\n",
              "      border: none;\n",
              "      border-radius: 50%;\n",
              "      cursor: pointer;\n",
              "      display: none;\n",
              "      fill: #1967D2;\n",
              "      height: 32px;\n",
              "      padding: 0 0 0 0;\n",
              "      width: 32px;\n",
              "    }\n",
              "\n",
              "    .colab-df-convert:hover {\n",
              "      background-color: #E2EBFA;\n",
              "      box-shadow: 0px 1px 2px rgba(60, 64, 67, 0.3), 0px 1px 3px 1px rgba(60, 64, 67, 0.15);\n",
              "      fill: #174EA6;\n",
              "    }\n",
              "\n",
              "    [theme=dark] .colab-df-convert {\n",
              "      background-color: #3B4455;\n",
              "      fill: #D2E3FC;\n",
              "    }\n",
              "\n",
              "    [theme=dark] .colab-df-convert:hover {\n",
              "      background-color: #434B5C;\n",
              "      box-shadow: 0px 1px 3px 1px rgba(0, 0, 0, 0.15);\n",
              "      filter: drop-shadow(0px 1px 2px rgba(0, 0, 0, 0.3));\n",
              "      fill: #FFFFFF;\n",
              "    }\n",
              "  </style>\n",
              "\n",
              "      <script>\n",
              "        const buttonEl =\n",
              "          document.querySelector('#df-5f05fb1b-8e61-4206-a4bf-7fc5fd34f891 button.colab-df-convert');\n",
              "        buttonEl.style.display =\n",
              "          google.colab.kernel.accessAllowed ? 'block' : 'none';\n",
              "\n",
              "        async function convertToInteractive(key) {\n",
              "          const element = document.querySelector('#df-5f05fb1b-8e61-4206-a4bf-7fc5fd34f891');\n",
              "          const dataTable =\n",
              "            await google.colab.kernel.invokeFunction('convertToInteractive',\n",
              "                                                     [key], {});\n",
              "          if (!dataTable) return;\n",
              "\n",
              "          const docLinkHtml = 'Like what you see? Visit the ' +\n",
              "            '<a target=\"_blank\" href=https://colab.research.google.com/notebooks/data_table.ipynb>data table notebook</a>'\n",
              "            + ' to learn more about interactive tables.';\n",
              "          element.innerHTML = '';\n",
              "          dataTable['output_type'] = 'display_data';\n",
              "          await google.colab.output.renderOutput(dataTable, element);\n",
              "          const docLink = document.createElement('div');\n",
              "          docLink.innerHTML = docLinkHtml;\n",
              "          element.appendChild(docLink);\n",
              "        }\n",
              "      </script>\n",
              "    </div>\n",
              "  </div>\n",
              "  "
            ]
          },
          "metadata": {},
          "execution_count": 17
        }
      ]
    },
    {
      "cell_type": "code",
      "source": [
        "over_sampler = RandomOverSampler(random_state = 42)\n",
        "X_train_over, y_train_over = over_sampler.fit_resample(X_train, y_train)\n",
        "print(X_train_over.shape)\n",
        "X_train_over.head()"
      ],
      "metadata": {
        "colab": {
          "base_uri": "https://localhost:8080/",
          "height": 317
        },
        "id": "3B34fWqn9l14",
        "outputId": "1457589f-a6d1-4004-f80a-3e951ef4afa5"
      },
      "execution_count": null,
      "outputs": [
        {
          "output_type": "stream",
          "name": "stdout",
          "text": [
            "(66148, 64)\n"
          ]
        },
        {
          "output_type": "execute_result",
          "data": {
            "text/plain": [
              "         X1       X2        X3       X4       X5        X6        X7       X8  \\\n",
              "0 -0.057539  0.44252  0.223210  1.57370  23.3010  0.161160 -0.055615  1.25980   \n",
              "1 -0.128080  0.85370 -0.025713  0.96909 -39.4380 -0.031407 -0.128080  0.17137   \n",
              "2 -0.104010  0.86107  0.059173  1.06870   1.8093  0.000000 -0.104010  0.16134   \n",
              "3  0.175230  0.76406  0.071079  1.09300 -26.2280  0.175230  0.212090  0.25730   \n",
              "4  0.097003  0.69768 -0.129770  0.63575 -92.9040  0.116770  0.097003  0.42044   \n",
              "\n",
              "        X9      X10  ...       X55       X56      X57      X58       X59  \\\n",
              "0  0.94527  0.55748  ...  8934.000 -0.057899 -0.10321  1.05790  0.095908   \n",
              "1  3.02940  0.14630  ... -1148.500  0.168690 -0.87547  0.85164  0.000000   \n",
              "2  2.28140  0.13893  ...    27.807  0.196490 -0.74866  0.80469  0.000000   \n",
              "3  1.05880  0.19660  ...   679.300  0.055543  0.89134  0.94446  0.000000   \n",
              "4  1.06030  0.29333  ... -3695.500  0.056866  0.33069  0.94313  1.163900   \n",
              "\n",
              "      X60      X61     X62     X63      X64  \n",
              "0  11.846   3.9378  101.98  3.5792   3.5914  \n",
              "1  14.730   5.2979  100.23  3.6416  15.6290  \n",
              "2  45.658   2.6453  137.76  2.6495  28.6050  \n",
              "3  10.222   3.4837  136.74  2.6693  12.3710  \n",
              "4   7.850  30.8920  100.27  3.6402   1.6766  \n",
              "\n",
              "[5 rows x 64 columns]"
            ],
            "text/html": [
              "\n",
              "  <div id=\"df-8645dd82-0d5b-4de9-9346-32293d1e3b46\">\n",
              "    <div class=\"colab-df-container\">\n",
              "      <div>\n",
              "<style scoped>\n",
              "    .dataframe tbody tr th:only-of-type {\n",
              "        vertical-align: middle;\n",
              "    }\n",
              "\n",
              "    .dataframe tbody tr th {\n",
              "        vertical-align: top;\n",
              "    }\n",
              "\n",
              "    .dataframe thead th {\n",
              "        text-align: right;\n",
              "    }\n",
              "</style>\n",
              "<table border=\"1\" class=\"dataframe\">\n",
              "  <thead>\n",
              "    <tr style=\"text-align: right;\">\n",
              "      <th></th>\n",
              "      <th>X1</th>\n",
              "      <th>X2</th>\n",
              "      <th>X3</th>\n",
              "      <th>X4</th>\n",
              "      <th>X5</th>\n",
              "      <th>X6</th>\n",
              "      <th>X7</th>\n",
              "      <th>X8</th>\n",
              "      <th>X9</th>\n",
              "      <th>X10</th>\n",
              "      <th>...</th>\n",
              "      <th>X55</th>\n",
              "      <th>X56</th>\n",
              "      <th>X57</th>\n",
              "      <th>X58</th>\n",
              "      <th>X59</th>\n",
              "      <th>X60</th>\n",
              "      <th>X61</th>\n",
              "      <th>X62</th>\n",
              "      <th>X63</th>\n",
              "      <th>X64</th>\n",
              "    </tr>\n",
              "  </thead>\n",
              "  <tbody>\n",
              "    <tr>\n",
              "      <th>0</th>\n",
              "      <td>-0.057539</td>\n",
              "      <td>0.44252</td>\n",
              "      <td>0.223210</td>\n",
              "      <td>1.57370</td>\n",
              "      <td>23.3010</td>\n",
              "      <td>0.161160</td>\n",
              "      <td>-0.055615</td>\n",
              "      <td>1.25980</td>\n",
              "      <td>0.94527</td>\n",
              "      <td>0.55748</td>\n",
              "      <td>...</td>\n",
              "      <td>8934.000</td>\n",
              "      <td>-0.057899</td>\n",
              "      <td>-0.10321</td>\n",
              "      <td>1.05790</td>\n",
              "      <td>0.095908</td>\n",
              "      <td>11.846</td>\n",
              "      <td>3.9378</td>\n",
              "      <td>101.98</td>\n",
              "      <td>3.5792</td>\n",
              "      <td>3.5914</td>\n",
              "    </tr>\n",
              "    <tr>\n",
              "      <th>1</th>\n",
              "      <td>-0.128080</td>\n",
              "      <td>0.85370</td>\n",
              "      <td>-0.025713</td>\n",
              "      <td>0.96909</td>\n",
              "      <td>-39.4380</td>\n",
              "      <td>-0.031407</td>\n",
              "      <td>-0.128080</td>\n",
              "      <td>0.17137</td>\n",
              "      <td>3.02940</td>\n",
              "      <td>0.14630</td>\n",
              "      <td>...</td>\n",
              "      <td>-1148.500</td>\n",
              "      <td>0.168690</td>\n",
              "      <td>-0.87547</td>\n",
              "      <td>0.85164</td>\n",
              "      <td>0.000000</td>\n",
              "      <td>14.730</td>\n",
              "      <td>5.2979</td>\n",
              "      <td>100.23</td>\n",
              "      <td>3.6416</td>\n",
              "      <td>15.6290</td>\n",
              "    </tr>\n",
              "    <tr>\n",
              "      <th>2</th>\n",
              "      <td>-0.104010</td>\n",
              "      <td>0.86107</td>\n",
              "      <td>0.059173</td>\n",
              "      <td>1.06870</td>\n",
              "      <td>1.8093</td>\n",
              "      <td>0.000000</td>\n",
              "      <td>-0.104010</td>\n",
              "      <td>0.16134</td>\n",
              "      <td>2.28140</td>\n",
              "      <td>0.13893</td>\n",
              "      <td>...</td>\n",
              "      <td>27.807</td>\n",
              "      <td>0.196490</td>\n",
              "      <td>-0.74866</td>\n",
              "      <td>0.80469</td>\n",
              "      <td>0.000000</td>\n",
              "      <td>45.658</td>\n",
              "      <td>2.6453</td>\n",
              "      <td>137.76</td>\n",
              "      <td>2.6495</td>\n",
              "      <td>28.6050</td>\n",
              "    </tr>\n",
              "    <tr>\n",
              "      <th>3</th>\n",
              "      <td>0.175230</td>\n",
              "      <td>0.76406</td>\n",
              "      <td>0.071079</td>\n",
              "      <td>1.09300</td>\n",
              "      <td>-26.2280</td>\n",
              "      <td>0.175230</td>\n",
              "      <td>0.212090</td>\n",
              "      <td>0.25730</td>\n",
              "      <td>1.05880</td>\n",
              "      <td>0.19660</td>\n",
              "      <td>...</td>\n",
              "      <td>679.300</td>\n",
              "      <td>0.055543</td>\n",
              "      <td>0.89134</td>\n",
              "      <td>0.94446</td>\n",
              "      <td>0.000000</td>\n",
              "      <td>10.222</td>\n",
              "      <td>3.4837</td>\n",
              "      <td>136.74</td>\n",
              "      <td>2.6693</td>\n",
              "      <td>12.3710</td>\n",
              "    </tr>\n",
              "    <tr>\n",
              "      <th>4</th>\n",
              "      <td>0.097003</td>\n",
              "      <td>0.69768</td>\n",
              "      <td>-0.129770</td>\n",
              "      <td>0.63575</td>\n",
              "      <td>-92.9040</td>\n",
              "      <td>0.116770</td>\n",
              "      <td>0.097003</td>\n",
              "      <td>0.42044</td>\n",
              "      <td>1.06030</td>\n",
              "      <td>0.29333</td>\n",
              "      <td>...</td>\n",
              "      <td>-3695.500</td>\n",
              "      <td>0.056866</td>\n",
              "      <td>0.33069</td>\n",
              "      <td>0.94313</td>\n",
              "      <td>1.163900</td>\n",
              "      <td>7.850</td>\n",
              "      <td>30.8920</td>\n",
              "      <td>100.27</td>\n",
              "      <td>3.6402</td>\n",
              "      <td>1.6766</td>\n",
              "    </tr>\n",
              "  </tbody>\n",
              "</table>\n",
              "<p>5 rows × 64 columns</p>\n",
              "</div>\n",
              "      <button class=\"colab-df-convert\" onclick=\"convertToInteractive('df-8645dd82-0d5b-4de9-9346-32293d1e3b46')\"\n",
              "              title=\"Convert this dataframe to an interactive table.\"\n",
              "              style=\"display:none;\">\n",
              "        \n",
              "  <svg xmlns=\"http://www.w3.org/2000/svg\" height=\"24px\"viewBox=\"0 0 24 24\"\n",
              "       width=\"24px\">\n",
              "    <path d=\"M0 0h24v24H0V0z\" fill=\"none\"/>\n",
              "    <path d=\"M18.56 5.44l.94 2.06.94-2.06 2.06-.94-2.06-.94-.94-2.06-.94 2.06-2.06.94zm-11 1L8.5 8.5l.94-2.06 2.06-.94-2.06-.94L8.5 2.5l-.94 2.06-2.06.94zm10 10l.94 2.06.94-2.06 2.06-.94-2.06-.94-.94-2.06-.94 2.06-2.06.94z\"/><path d=\"M17.41 7.96l-1.37-1.37c-.4-.4-.92-.59-1.43-.59-.52 0-1.04.2-1.43.59L10.3 9.45l-7.72 7.72c-.78.78-.78 2.05 0 2.83L4 21.41c.39.39.9.59 1.41.59.51 0 1.02-.2 1.41-.59l7.78-7.78 2.81-2.81c.8-.78.8-2.07 0-2.86zM5.41 20L4 18.59l7.72-7.72 1.47 1.35L5.41 20z\"/>\n",
              "  </svg>\n",
              "      </button>\n",
              "      \n",
              "  <style>\n",
              "    .colab-df-container {\n",
              "      display:flex;\n",
              "      flex-wrap:wrap;\n",
              "      gap: 12px;\n",
              "    }\n",
              "\n",
              "    .colab-df-convert {\n",
              "      background-color: #E8F0FE;\n",
              "      border: none;\n",
              "      border-radius: 50%;\n",
              "      cursor: pointer;\n",
              "      display: none;\n",
              "      fill: #1967D2;\n",
              "      height: 32px;\n",
              "      padding: 0 0 0 0;\n",
              "      width: 32px;\n",
              "    }\n",
              "\n",
              "    .colab-df-convert:hover {\n",
              "      background-color: #E2EBFA;\n",
              "      box-shadow: 0px 1px 2px rgba(60, 64, 67, 0.3), 0px 1px 3px 1px rgba(60, 64, 67, 0.15);\n",
              "      fill: #174EA6;\n",
              "    }\n",
              "\n",
              "    [theme=dark] .colab-df-convert {\n",
              "      background-color: #3B4455;\n",
              "      fill: #D2E3FC;\n",
              "    }\n",
              "\n",
              "    [theme=dark] .colab-df-convert:hover {\n",
              "      background-color: #434B5C;\n",
              "      box-shadow: 0px 1px 3px 1px rgba(0, 0, 0, 0.15);\n",
              "      filter: drop-shadow(0px 1px 2px rgba(0, 0, 0, 0.3));\n",
              "      fill: #FFFFFF;\n",
              "    }\n",
              "  </style>\n",
              "\n",
              "      <script>\n",
              "        const buttonEl =\n",
              "          document.querySelector('#df-8645dd82-0d5b-4de9-9346-32293d1e3b46 button.colab-df-convert');\n",
              "        buttonEl.style.display =\n",
              "          google.colab.kernel.accessAllowed ? 'block' : 'none';\n",
              "\n",
              "        async function convertToInteractive(key) {\n",
              "          const element = document.querySelector('#df-8645dd82-0d5b-4de9-9346-32293d1e3b46');\n",
              "          const dataTable =\n",
              "            await google.colab.kernel.invokeFunction('convertToInteractive',\n",
              "                                                     [key], {});\n",
              "          if (!dataTable) return;\n",
              "\n",
              "          const docLinkHtml = 'Like what you see? Visit the ' +\n",
              "            '<a target=\"_blank\" href=https://colab.research.google.com/notebooks/data_table.ipynb>data table notebook</a>'\n",
              "            + ' to learn more about interactive tables.';\n",
              "          element.innerHTML = '';\n",
              "          dataTable['output_type'] = 'display_data';\n",
              "          await google.colab.output.renderOutput(dataTable, element);\n",
              "          const docLink = document.createElement('div');\n",
              "          docLink.innerHTML = docLinkHtml;\n",
              "          element.appendChild(docLink);\n",
              "        }\n",
              "      </script>\n",
              "    </div>\n",
              "  </div>\n",
              "  "
            ]
          },
          "metadata": {},
          "execution_count": 18
        }
      ]
    },
    {
      "cell_type": "markdown",
      "source": [
        "# Model"
      ],
      "metadata": {
        "id": "roiRJaa098Ip"
      }
    },
    {
      "cell_type": "code",
      "source": [
        "acc_baseline = y_train.value_counts(normalize = True).max()\n",
        "print(\"Baseline Accuracy:\", round(acc_baseline, 4))"
      ],
      "metadata": {
        "colab": {
          "base_uri": "https://localhost:8080/"
        },
        "id": "lK9kBvPK-Ba0",
        "outputId": "b6e85b1b-3b13-42f4-9624-097b6376a76d"
      },
      "execution_count": null,
      "outputs": [
        {
          "output_type": "stream",
          "name": "stdout",
          "text": [
            "Baseline Accuracy: 0.9525\n"
          ]
        }
      ]
    },
    {
      "cell_type": "markdown",
      "source": [
        "### Decision Tree"
      ],
      "metadata": {
        "id": "-3lpqSO499r4"
      }
    },
    {
      "cell_type": "code",
      "source": [
        "# Fit on `X_train`, `y_train`\n",
        "model_reg = make_pipeline(SimpleImputer(), DecisionTreeClassifier(random_state = 42))\n",
        "model_reg.fit(X_train, y_train)\n",
        "\n",
        "# Fit on `X_train_under`, `y_train_under`\n",
        "model_under = make_pipeline(SimpleImputer(), DecisionTreeClassifier(random_state = 42))\n",
        "model_under.fit(X_train_under, y_train_under)\n",
        "\n",
        "# Fit on `X_train_over`, `y_train_over`\n",
        "model_over = make_pipeline(SimpleImputer(), DecisionTreeClassifier(random_state = 42))\n",
        "model_over.fit(X_train_over, y_train_over)"
      ],
      "metadata": {
        "colab": {
          "base_uri": "https://localhost:8080/"
        },
        "id": "TafB_CLV9xFD",
        "outputId": "a863df42-d685-45a8-a395-aee18dbf0f23"
      },
      "execution_count": null,
      "outputs": [
        {
          "output_type": "execute_result",
          "data": {
            "text/plain": [
              "Pipeline(steps=[('simpleimputer', SimpleImputer()),\n",
              "                ('decisiontreeclassifier',\n",
              "                 DecisionTreeClassifier(random_state=42))])"
            ]
          },
          "metadata": {},
          "execution_count": 20
        }
      ]
    },
    {
      "cell_type": "code",
      "source": [
        "for m in [model_reg, model_under, model_over]:\n",
        "    acc_train = accuracy_score(y_train, m.predict(X_train))\n",
        "    acc_test = accuracy_score(y_test, m.predict(X_test))\n",
        "\n",
        "    print(\"Training Accuracy:\", round(acc_train, 4))\n",
        "    print(\"Test Accuracy:\", round(acc_test, 4))"
      ],
      "metadata": {
        "colab": {
          "base_uri": "https://localhost:8080/"
        },
        "id": "GrzPw_pL-Ybm",
        "outputId": "683e4710-c34b-4277-db4d-f21eca33bbb7"
      },
      "execution_count": null,
      "outputs": [
        {
          "output_type": "stream",
          "name": "stdout",
          "text": [
            "Training Accuracy: 1.0\n",
            "Test Accuracy: 0.9489\n",
            "Training Accuracy: 0.8136\n",
            "Test Accuracy: 0.8015\n",
            "Training Accuracy: 1.0\n",
            "Test Accuracy: 0.9543\n"
          ]
        }
      ]
    },
    {
      "cell_type": "code",
      "source": [
        "# Plot confusion matrix\n",
        "ConfusionMatrixDisplay.from_estimator(model_over, X_test, y_test)"
      ],
      "metadata": {
        "colab": {
          "base_uri": "https://localhost:8080/",
          "height": 299
        },
        "id": "CTiCD8qm-Y1P",
        "outputId": "47301d5e-6f6c-4c65-b707-e93c35ccf6e7"
      },
      "execution_count": null,
      "outputs": [
        {
          "output_type": "execute_result",
          "data": {
            "text/plain": [
              "<sklearn.metrics._plot.confusion_matrix.ConfusionMatrixDisplay at 0x7f2e2ec44820>"
            ]
          },
          "metadata": {},
          "execution_count": 22
        },
        {
          "output_type": "display_data",
          "data": {
            "text/plain": [
              "<Figure size 432x288 with 2 Axes>"
            ],
            "image/png": "[encoded data removed]"
          },
          "metadata": {
            "needs_background": "light"
          }
        }
      ]
    },
    {
      "cell_type": "code",
      "source": [
        "depth = model_over.named_steps[\"decisiontreeclassifier\"].get_depth()\n",
        "print(depth)"
      ],
      "metadata": {
        "colab": {
          "base_uri": "https://localhost:8080/"
        },
        "id": "XNxHV3V3-cBv",
        "outputId": "5a74eac6-ffa6-4e28-cc27-4da8af5e7e00"
      },
      "execution_count": null,
      "outputs": [
        {
          "output_type": "stream",
          "name": "stdout",
          "text": [
            "43\n"
          ]
        }
      ]
    },
    {
      "cell_type": "markdown",
      "source": [
        "Communicate"
      ],
      "metadata": {
        "id": "-ejuDcoG-eOO"
      }
    },
    {
      "cell_type": "code",
      "source": [
        "# Get importances\n",
        "features = X_train_over.columns\n",
        "importances = model_over.named_steps[\"decisiontreeclassifier\"].feature_importances_\n",
        "\n",
        "# Put importances into a Series\n",
        "feat_imp = pd.Series(importances, index = features).sort_values()\n",
        "\n",
        "# Plot series\n",
        "feat_imp.tail(15).plot(kind = \"barh\")\n",
        "plt.xlabel(\"Gini Importance\")\n",
        "plt.ylabel(\"Feature\")\n",
        "plt.title(\"model_over Feature Importance\");"
      ],
      "metadata": {
        "colab": {
          "base_uri": "https://localhost:8080/",
          "height": 295
        },
        "id": "pwIxb6-u-dYP",
        "outputId": "ad56ad5e-3c31-47bc-bdfd-4321572c9d5b"
      },
      "execution_count": null,
      "outputs": [
        {
          "output_type": "display_data",
          "data": {
            "text/plain": [
              "<Figure size 432x288 with 1 Axes>"
            ],
            "image/png": "[encoded data removed]"
          },
          "metadata": {
            "needs_background": "light"
          }
        }
      ]
    },
    {
      "cell_type": "code",
      "source": [
        "# Save your model as `\"model-5-2.pkl\"`\n",
        "with open(\"model-decision-tree.pkl\", \"wb\") as f:\n",
        "    pickle.dump(model_over, f)"
      ],
      "metadata": {
        "id": "3Bk_o7yH-f_V"
      },
      "execution_count": null,
      "outputs": []
    },
    {
      "cell_type": "code",
      "source": [
        "# Load `\"model-5-2.pkl\"`\n",
        "with open(\"model-decision-tree.pkl\", \"rb\") as f:\n",
        "    loaded_model = pickle.load(f)\n",
        "print(loaded_model)"
      ],
      "metadata": {
        "colab": {
          "base_uri": "https://localhost:8080/"
        },
        "id": "zRTPS_i--j3r",
        "outputId": "3960edf9-84e0-4caf-c9a6-f6a46da2864e"
      },
      "execution_count": null,
      "outputs": [
        {
          "output_type": "stream",
          "name": "stdout",
          "text": [
            "Pipeline(steps=[('simpleimputer', SimpleImputer()),\n",
            "                ('decisiontreeclassifier',\n",
            "                 DecisionTreeClassifier(random_state=42))])\n"
          ]
        }
      ]
    },
    {
      "cell_type": "markdown",
      "source": [
        "### Random Forest"
      ],
      "metadata": {
        "id": "BUEYnjIw-wNC"
      }
    },
    {
      "cell_type": "code",
      "source": [
        "clf = make_pipeline(SimpleImputer(), RandomForestClassifier(random_state = 42))\n",
        "print(clf)"
      ],
      "metadata": {
        "colab": {
          "base_uri": "https://localhost:8080/"
        },
        "id": "UtJGpydK-xu2",
        "outputId": "95b09c5d-72a1-47b6-fb1b-c105d7321cb5"
      },
      "execution_count": null,
      "outputs": [
        {
          "output_type": "stream",
          "name": "stdout",
          "text": [
            "Pipeline(steps=[('simpleimputer', SimpleImputer()),\n",
            "                ('randomforestclassifier',\n",
            "                 RandomForestClassifier(random_state=42))])\n"
          ]
        }
      ]
    },
    {
      "cell_type": "code",
      "source": [
        "cv_acc_scores = cross_val_score(clf, X_train_over, y_train_over, cv = 5, n_jobs = -1)\n",
        "print(cv_acc_scores)"
      ],
      "metadata": {
        "colab": {
          "base_uri": "https://localhost:8080/"
        },
        "id": "ipPAmNPj-zjv",
        "outputId": "0374a426-f274-410c-f0d8-e57a15e10e70"
      },
      "execution_count": null,
      "outputs": [
        {
          "output_type": "stream",
          "name": "stdout",
          "text": [
            "[0.99818594 0.99780801 0.99697657 0.99848817 0.99712752]\n"
          ]
        }
      ]
    },
    {
      "cell_type": "code",
      "source": [
        "params = {\n",
        "    \"simpleimputer__strategy\": [\"mean\", \"median\"],\n",
        "    \"randomforestclassifier__n_estimators\": range(25, 100, 25),\n",
        "    \"randomforestclassifier__max_depth\": range(10, 50, 10)\n",
        "}\n",
        "params"
      ],
      "metadata": {
        "colab": {
          "base_uri": "https://localhost:8080/"
        },
        "id": "Z8GeIM5x-0_b",
        "outputId": "891d298b-1d4e-491c-dd47-b2e6c110627f"
      },
      "execution_count": null,
      "outputs": [
        {
          "output_type": "execute_result",
          "data": {
            "text/plain": [
              "{'simpleimputer__strategy': ['mean', 'median'],\n",
              " 'randomforestclassifier__n_estimators': range(25, 100, 25),\n",
              " 'randomforestclassifier__max_depth': range(10, 50, 10)}"
            ]
          },
          "metadata": {},
          "execution_count": 29
        }
      ]
    },
    {
      "cell_type": "code",
      "source": [
        "model = GridSearchCV(\n",
        "\tclf,\n",
        "    param_grid = params,\n",
        "    cv = 5,\n",
        "    n_jobs = -1,\n",
        "    verbose = 1\n",
        ")\n",
        "model"
      ],
      "metadata": {
        "colab": {
          "base_uri": "https://localhost:8080/"
        },
        "id": "T8RcQfLtEP6t",
        "outputId": "6f76a9e5-3c5f-48f1-b758-924fb635fc2a"
      },
      "execution_count": null,
      "outputs": [
        {
          "output_type": "execute_result",
          "data": {
            "text/plain": [
              "GridSearchCV(cv=5,\n",
              "             estimator=Pipeline(steps=[('simpleimputer', SimpleImputer()),\n",
              "                                       ('randomforestclassifier',\n",
              "                                        RandomForestClassifier(random_state=42))]),\n",
              "             n_jobs=-1,\n",
              "             param_grid={'randomforestclassifier__max_depth': range(10, 50, 10),\n",
              "                         'randomforestclassifier__n_estimators': range(25, 100, 25),\n",
              "                         'simpleimputer__strategy': ['mean', 'median']},\n",
              "             verbose=1)"
            ]
          },
          "metadata": {},
          "execution_count": 30
        }
      ]
    },
    {
      "cell_type": "code",
      "source": [
        "# Train model\n",
        "model.fit(X_train_over, y_train_over)"
      ],
      "metadata": {
        "colab": {
          "base_uri": "https://localhost:8080/"
        },
        "id": "Dh1mvsfNERG7",
        "outputId": "699c4762-6942-4406-a8c0-dcfe05d914c1"
      },
      "execution_count": null,
      "outputs": [
        {
          "output_type": "stream",
          "name": "stdout",
          "text": [
            "Fitting 5 folds for each of 24 candidates, totalling 120 fits\n"
          ]
        },
        {
          "output_type": "execute_result",
          "data": {
            "text/plain": [
              "GridSearchCV(cv=5,\n",
              "             estimator=Pipeline(steps=[('simpleimputer', SimpleImputer()),\n",
              "                                       ('randomforestclassifier',\n",
              "                                        RandomForestClassifier(random_state=42))]),\n",
              "             n_jobs=-1,\n",
              "             param_grid={'randomforestclassifier__max_depth': range(10, 50, 10),\n",
              "                         'randomforestclassifier__n_estimators': range(25, 100, 25),\n",
              "                         'simpleimputer__strategy': ['mean', 'median']},\n",
              "             verbose=1)"
            ]
          },
          "metadata": {},
          "execution_count": 31
        }
      ]
    },
    {
      "cell_type": "code",
      "source": [
        "cv_results = pd.DataFrame(model.cv_results_)\n",
        "cv_results.tail(10)"
      ],
      "metadata": {
        "colab": {
          "base_uri": "https://localhost:8080/",
          "height": 600
        },
        "id": "LvPfFez6ES4O",
        "outputId": "fad90592-eff2-4ee1-e746-236aa3a55761"
      },
      "execution_count": null,
      "outputs": [
        {
          "output_type": "execute_result",
          "data": {
            "text/plain": [
              "    mean_fit_time  std_fit_time  mean_score_time  std_score_time  \\\n",
              "14      26.673174      0.226129         0.242957        0.005134   \n",
              "15      27.361576      0.045773         0.243598        0.008488   \n",
              "16      39.779727      0.396018         0.336831        0.022878   \n",
              "17      40.799881      0.810948         0.527931        0.202261   \n",
              "18      13.603352      0.774346         0.200051        0.064482   \n",
              "19      14.370835      0.142813         0.188811        0.060341   \n",
              "20      26.342705      0.324542         0.289343        0.105404   \n",
              "21      27.525882      0.271263         0.308452        0.147595   \n",
              "22      39.846238      0.195446         0.342749        0.013762   \n",
              "23      40.480815      1.940122         0.342123        0.038023   \n",
              "\n",
              "   param_randomforestclassifier__max_depth  \\\n",
              "14                                      30   \n",
              "15                                      30   \n",
              "16                                      30   \n",
              "17                                      30   \n",
              "18                                      40   \n",
              "19                                      40   \n",
              "20                                      40   \n",
              "21                                      40   \n",
              "22                                      40   \n",
              "23                                      40   \n",
              "\n",
              "   param_randomforestclassifier__n_estimators param_simpleimputer__strategy  \\\n",
              "14                                         50                          mean   \n",
              "15                                         50                        median   \n",
              "16                                         75                          mean   \n",
              "17                                         75                        median   \n",
              "18                                         25                          mean   \n",
              "19                                         25                        median   \n",
              "20                                         50                          mean   \n",
              "21                                         50                        median   \n",
              "22                                         75                          mean   \n",
              "23                                         75                        median   \n",
              "\n",
              "                                               params  split0_test_score  \\\n",
              "14  {'randomforestclassifier__max_depth': 30, 'ran...           0.997732   \n",
              "15  {'randomforestclassifier__max_depth': 30, 'ran...           0.997581   \n",
              "16  {'randomforestclassifier__max_depth': 30, 'ran...           0.997657   \n",
              "17  {'randomforestclassifier__max_depth': 30, 'ran...           0.997732   \n",
              "18  {'randomforestclassifier__max_depth': 40, 'ran...           0.997581   \n",
              "19  {'randomforestclassifier__max_depth': 40, 'ran...           0.997506   \n",
              "20  {'randomforestclassifier__max_depth': 40, 'ran...           0.998035   \n",
              "21  {'randomforestclassifier__max_depth': 40, 'ran...           0.998035   \n",
              "22  {'randomforestclassifier__max_depth': 40, 'ran...           0.997884   \n",
              "23  {'randomforestclassifier__max_depth': 40, 'ran...           0.998186   \n",
              "\n",
              "    split1_test_score  split2_test_score  split3_test_score  \\\n",
              "14           0.997732           0.996825           0.997883   \n",
              "15           0.997506           0.996825           0.997959   \n",
              "16           0.997581           0.996750           0.998035   \n",
              "17           0.997506           0.996901           0.997657   \n",
              "18           0.996825           0.996447           0.998261   \n",
              "19           0.997279           0.996674           0.997657   \n",
              "20           0.997732           0.997052           0.998564   \n",
              "21           0.997732           0.997128           0.997959   \n",
              "22           0.997581           0.997128           0.998337   \n",
              "23           0.997808           0.997052           0.998110   \n",
              "\n",
              "    split4_test_score  mean_test_score  std_test_score  rank_test_score  \n",
              "14           0.996901         0.997415        0.000455                4  \n",
              "15           0.995994         0.997173        0.000694                8  \n",
              "16           0.996825         0.997370        0.000500                6  \n",
              "17           0.996372         0.997233        0.000521                7  \n",
              "18           0.996447         0.997113        0.000708                9  \n",
              "19           0.995994         0.997022        0.000613               10  \n",
              "20           0.997052         0.997687        0.000583                1  \n",
              "21           0.996069         0.997385        0.000731                5  \n",
              "22           0.997052         0.997596        0.000479                2  \n",
              "23           0.996145         0.997460        0.000770                3  "
            ],
            "text/html": [
              "\n",
              "  <div id=\"df-a41b0b4b-d27e-4cae-af87-0a974ff2039e\">\n",
              "    <div class=\"colab-df-container\">\n",
              "      <div>\n",
              "<style scoped>\n",
              "    .dataframe tbody tr th:only-of-type {\n",
              "        vertical-align: middle;\n",
              "    }\n",
              "\n",
              "    .dataframe tbody tr th {\n",
              "        vertical-align: top;\n",
              "    }\n",
              "\n",
              "    .dataframe thead th {\n",
              "        text-align: right;\n",
              "    }\n",
              "</style>\n",
              "<table border=\"1\" class=\"dataframe\">\n",
              "  <thead>\n",
              "    <tr style=\"text-align: right;\">\n",
              "      <th></th>\n",
              "      <th>mean_fit_time</th>\n",
              "      <th>std_fit_time</th>\n",
              "      <th>mean_score_time</th>\n",
              "      <th>std_score_time</th>\n",
              "      <th>param_randomforestclassifier__max_depth</th>\n",
              "      <th>param_randomforestclassifier__n_estimators</th>\n",
              "      <th>param_simpleimputer__strategy</th>\n",
              "      <th>params</th>\n",
              "      <th>split0_test_score</th>\n",
              "      <th>split1_test_score</th>\n",
              "      <th>split2_test_score</th>\n",
              "      <th>split3_test_score</th>\n",
              "      <th>split4_test_score</th>\n",
              "      <th>mean_test_score</th>\n",
              "      <th>std_test_score</th>\n",
              "      <th>rank_test_score</th>\n",
              "    </tr>\n",
              "  </thead>\n",
              "  <tbody>\n",
              "    <tr>\n",
              "      <th>14</th>\n",
              "      <td>26.673174</td>\n",
              "      <td>0.226129</td>\n",
              "      <td>0.242957</td>\n",
              "      <td>0.005134</td>\n",
              "      <td>30</td>\n",
              "      <td>50</td>\n",
              "      <td>mean</td>\n",
              "      <td>{'randomforestclassifier__max_depth': 30, 'ran...</td>\n",
              "      <td>0.997732</td>\n",
              "      <td>0.997732</td>\n",
              "      <td>0.996825</td>\n",
              "      <td>0.997883</td>\n",
              "      <td>0.996901</td>\n",
              "      <td>0.997415</td>\n",
              "      <td>0.000455</td>\n",
              "      <td>4</td>\n",
              "    </tr>\n",
              "    <tr>\n",
              "      <th>15</th>\n",
              "      <td>27.361576</td>\n",
              "      <td>0.045773</td>\n",
              "      <td>0.243598</td>\n",
              "      <td>0.008488</td>\n",
              "      <td>30</td>\n",
              "      <td>50</td>\n",
              "      <td>median</td>\n",
              "      <td>{'randomforestclassifier__max_depth': 30, 'ran...</td>\n",
              "      <td>0.997581</td>\n",
              "      <td>0.997506</td>\n",
              "      <td>0.996825</td>\n",
              "      <td>0.997959</td>\n",
              "      <td>0.995994</td>\n",
              "      <td>0.997173</td>\n",
              "      <td>0.000694</td>\n",
              "      <td>8</td>\n",
              "    </tr>\n",
              "    <tr>\n",
              "      <th>16</th>\n",
              "      <td>39.779727</td>\n",
              "      <td>0.396018</td>\n",
              "      <td>0.336831</td>\n",
              "      <td>0.022878</td>\n",
              "      <td>30</td>\n",
              "      <td>75</td>\n",
              "      <td>mean</td>\n",
              "      <td>{'randomforestclassifier__max_depth': 30, 'ran...</td>\n",
              "      <td>0.997657</td>\n",
              "      <td>0.997581</td>\n",
              "      <td>0.996750</td>\n",
              "      <td>0.998035</td>\n",
              "      <td>0.996825</td>\n",
              "      <td>0.997370</td>\n",
              "      <td>0.000500</td>\n",
              "      <td>6</td>\n",
              "    </tr>\n",
              "    <tr>\n",
              "      <th>17</th>\n",
              "      <td>40.799881</td>\n",
              "      <td>0.810948</td>\n",
              "      <td>0.527931</td>\n",
              "      <td>0.202261</td>\n",
              "      <td>30</td>\n",
              "      <td>75</td>\n",
              "      <td>median</td>\n",
              "      <td>{'randomforestclassifier__max_depth': 30, 'ran...</td>\n",
              "      <td>0.997732</td>\n",
              "      <td>0.997506</td>\n",
              "      <td>0.996901</td>\n",
              "      <td>0.997657</td>\n",
              "      <td>0.996372</td>\n",
              "      <td>0.997233</td>\n",
              "      <td>0.000521</td>\n",
              "      <td>7</td>\n",
              "    </tr>\n",
              "    <tr>\n",
              "      <th>18</th>\n",
              "      <td>13.603352</td>\n",
              "      <td>0.774346</td>\n",
              "      <td>0.200051</td>\n",
              "      <td>0.064482</td>\n",
              "      <td>40</td>\n",
              "      <td>25</td>\n",
              "      <td>mean</td>\n",
              "      <td>{'randomforestclassifier__max_depth': 40, 'ran...</td>\n",
              "      <td>0.997581</td>\n",
              "      <td>0.996825</td>\n",
              "      <td>0.996447</td>\n",
              "      <td>0.998261</td>\n",
              "      <td>0.996447</td>\n",
              "      <td>0.997113</td>\n",
              "      <td>0.000708</td>\n",
              "      <td>9</td>\n",
              "    </tr>\n",
              "    <tr>\n",
              "      <th>19</th>\n",
              "      <td>14.370835</td>\n",
              "      <td>0.142813</td>\n",
              "      <td>0.188811</td>\n",
              "      <td>0.060341</td>\n",
              "      <td>40</td>\n",
              "      <td>25</td>\n",
              "      <td>median</td>\n",
              "      <td>{'randomforestclassifier__max_depth': 40, 'ran...</td>\n",
              "      <td>0.997506</td>\n",
              "      <td>0.997279</td>\n",
              "      <td>0.996674</td>\n",
              "      <td>0.997657</td>\n",
              "      <td>0.995994</td>\n",
              "      <td>0.997022</td>\n",
              "      <td>0.000613</td>\n",
              "      <td>10</td>\n",
              "    </tr>\n",
              "    <tr>\n",
              "      <th>20</th>\n",
              "      <td>26.342705</td>\n",
              "      <td>0.324542</td>\n",
              "      <td>0.289343</td>\n",
              "      <td>0.105404</td>\n",
              "      <td>40</td>\n",
              "      <td>50</td>\n",
              "      <td>mean</td>\n",
              "      <td>{'randomforestclassifier__max_depth': 40, 'ran...</td>\n",
              "      <td>0.998035</td>\n",
              "      <td>0.997732</td>\n",
              "      <td>0.997052</td>\n",
              "      <td>0.998564</td>\n",
              "      <td>0.997052</td>\n",
              "      <td>0.997687</td>\n",
              "      <td>0.000583</td>\n",
              "      <td>1</td>\n",
              "    </tr>\n",
              "    <tr>\n",
              "      <th>21</th>\n",
              "      <td>27.525882</td>\n",
              "      <td>0.271263</td>\n",
              "      <td>0.308452</td>\n",
              "      <td>0.147595</td>\n",
              "      <td>40</td>\n",
              "      <td>50</td>\n",
              "      <td>median</td>\n",
              "      <td>{'randomforestclassifier__max_depth': 40, 'ran...</td>\n",
              "      <td>0.998035</td>\n",
              "      <td>0.997732</td>\n",
              "      <td>0.997128</td>\n",
              "      <td>0.997959</td>\n",
              "      <td>0.996069</td>\n",
              "      <td>0.997385</td>\n",
              "      <td>0.000731</td>\n",
              "      <td>5</td>\n",
              "    </tr>\n",
              "    <tr>\n",
              "      <th>22</th>\n",
              "      <td>39.846238</td>\n",
              "      <td>0.195446</td>\n",
              "      <td>0.342749</td>\n",
              "      <td>0.013762</td>\n",
              "      <td>40</td>\n",
              "      <td>75</td>\n",
              "      <td>mean</td>\n",
              "      <td>{'randomforestclassifier__max_depth': 40, 'ran...</td>\n",
              "      <td>0.997884</td>\n",
              "      <td>0.997581</td>\n",
              "      <td>0.997128</td>\n",
              "      <td>0.998337</td>\n",
              "      <td>0.997052</td>\n",
              "      <td>0.997596</td>\n",
              "      <td>0.000479</td>\n",
              "      <td>2</td>\n",
              "    </tr>\n",
              "    <tr>\n",
              "      <th>23</th>\n",
              "      <td>40.480815</td>\n",
              "      <td>1.940122</td>\n",
              "      <td>0.342123</td>\n",
              "      <td>0.038023</td>\n",
              "      <td>40</td>\n",
              "      <td>75</td>\n",
              "      <td>median</td>\n",
              "      <td>{'randomforestclassifier__max_depth': 40, 'ran...</td>\n",
              "      <td>0.998186</td>\n",
              "      <td>0.997808</td>\n",
              "      <td>0.997052</td>\n",
              "      <td>0.998110</td>\n",
              "      <td>0.996145</td>\n",
              "      <td>0.997460</td>\n",
              "      <td>0.000770</td>\n",
              "      <td>3</td>\n",
              "    </tr>\n",
              "  </tbody>\n",
              "</table>\n",
              "</div>\n",
              "      <button class=\"colab-df-convert\" onclick=\"convertToInteractive('df-a41b0b4b-d27e-4cae-af87-0a974ff2039e')\"\n",
              "              title=\"Convert this dataframe to an interactive table.\"\n",
              "              style=\"display:none;\">\n",
              "        \n",
              "  <svg xmlns=\"http://www.w3.org/2000/svg\" height=\"24px\"viewBox=\"0 0 24 24\"\n",
              "       width=\"24px\">\n",
              "    <path d=\"M0 0h24v24H0V0z\" fill=\"none\"/>\n",
              "    <path d=\"M18.56 5.44l.94 2.06.94-2.06 2.06-.94-2.06-.94-.94-2.06-.94 2.06-2.06.94zm-11 1L8.5 8.5l.94-2.06 2.06-.94-2.06-.94L8.5 2.5l-.94 2.06-2.06.94zm10 10l.94 2.06.94-2.06 2.06-.94-2.06-.94-.94-2.06-.94 2.06-2.06.94z\"/><path d=\"M17.41 7.96l-1.37-1.37c-.4-.4-.92-.59-1.43-.59-.52 0-1.04.2-1.43.59L10.3 9.45l-7.72 7.72c-.78.78-.78 2.05 0 2.83L4 21.41c.39.39.9.59 1.41.59.51 0 1.02-.2 1.41-.59l7.78-7.78 2.81-2.81c.8-.78.8-2.07 0-2.86zM5.41 20L4 18.59l7.72-7.72 1.47 1.35L5.41 20z\"/>\n",
              "  </svg>\n",
              "      </button>\n",
              "      \n",
              "  <style>\n",
              "    .colab-df-container {\n",
              "      display:flex;\n",
              "      flex-wrap:wrap;\n",
              "      gap: 12px;\n",
              "    }\n",
              "\n",
              "    .colab-df-convert {\n",
              "      background-color: #E8F0FE;\n",
              "      border: none;\n",
              "      border-radius: 50%;\n",
              "      cursor: pointer;\n",
              "      display: none;\n",
              "      fill: #1967D2;\n",
              "      height: 32px;\n",
              "      padding: 0 0 0 0;\n",
              "      width: 32px;\n",
              "    }\n",
              "\n",
              "    .colab-df-convert:hover {\n",
              "      background-color: #E2EBFA;\n",
              "      box-shadow: 0px 1px 2px rgba(60, 64, 67, 0.3), 0px 1px 3px 1px rgba(60, 64, 67, 0.15);\n",
              "      fill: #174EA6;\n",
              "    }\n",
              "\n",
              "    [theme=dark] .colab-df-convert {\n",
              "      background-color: #3B4455;\n",
              "      fill: #D2E3FC;\n",
              "    }\n",
              "\n",
              "    [theme=dark] .colab-df-convert:hover {\n",
              "      background-color: #434B5C;\n",
              "      box-shadow: 0px 1px 3px 1px rgba(0, 0, 0, 0.15);\n",
              "      filter: drop-shadow(0px 1px 2px rgba(0, 0, 0, 0.3));\n",
              "      fill: #FFFFFF;\n",
              "    }\n",
              "  </style>\n",
              "\n",
              "      <script>\n",
              "        const buttonEl =\n",
              "          document.querySelector('#df-a41b0b4b-d27e-4cae-af87-0a974ff2039e button.colab-df-convert');\n",
              "        buttonEl.style.display =\n",
              "          google.colab.kernel.accessAllowed ? 'block' : 'none';\n",
              "\n",
              "        async function convertToInteractive(key) {\n",
              "          const element = document.querySelector('#df-a41b0b4b-d27e-4cae-af87-0a974ff2039e');\n",
              "          const dataTable =\n",
              "            await google.colab.kernel.invokeFunction('convertToInteractive',\n",
              "                                                     [key], {});\n",
              "          if (!dataTable) return;\n",
              "\n",
              "          const docLinkHtml = 'Like what you see? Visit the ' +\n",
              "            '<a target=\"_blank\" href=https://colab.research.google.com/notebooks/data_table.ipynb>data table notebook</a>'\n",
              "            + ' to learn more about interactive tables.';\n",
              "          element.innerHTML = '';\n",
              "          dataTable['output_type'] = 'display_data';\n",
              "          await google.colab.output.renderOutput(dataTable, element);\n",
              "          const docLink = document.createElement('div');\n",
              "          docLink.innerHTML = docLinkHtml;\n",
              "          element.appendChild(docLink);\n",
              "        }\n",
              "      </script>\n",
              "    </div>\n",
              "  </div>\n",
              "  "
            ]
          },
          "metadata": {},
          "execution_count": 32
        }
      ]
    },
    {
      "cell_type": "code",
      "source": [
        "# Create mask\n",
        "mask = cv_results[\"param_randomforestclassifier__max_depth\"] == 10\n",
        "# Plot fit time vs n_estimators\n",
        "plt.plot(\n",
        "\tcv_results[mask][\"param_randomforestclassifier__n_estimators\"],\n",
        "    cv_results[mask][\"mean_fit_time\"]\n",
        ")\n",
        "# Label axes\n",
        "plt.xlabel(\"Number of Estimators\")\n",
        "plt.ylabel(\"Mean Fit Time [seconds]\")\n",
        "plt.title(\"Training Time vs Estimators (max_depth=10)\");"
      ],
      "metadata": {
        "colab": {
          "base_uri": "https://localhost:8080/",
          "height": 295
        },
        "id": "FfgdvOwGxTNh",
        "outputId": "51339f00-2a33-4f91-9b65-2a4e72759c01"
      },
      "execution_count": null,
      "outputs": [
        {
          "output_type": "display_data",
          "data": {
            "text/plain": [
              "<Figure size 432x288 with 1 Axes>"
            ],
            "image/png": "[encoded data removed]"
          },
          "metadata": {
            "needs_background": "light"
          }
        }
      ]
    },
    {
      "cell_type": "code",
      "source": [
        "# Create mask\n",
        "mask = cv_results[\"param_randomforestclassifier__n_estimators\"] == 25\n",
        "# Plot fit time vs max_depth\n",
        "plt.plot(\n",
        "\tcv_results[mask][\"param_randomforestclassifier__max_depth\"],\n",
        "    cv_results[mask][\"mean_fit_time\"]\n",
        ")\n",
        "# Label axes\n",
        "plt.xlabel(\"Max Depth\")\n",
        "plt.ylabel(\"Mean Fit Time [seconds]\")\n",
        "plt.title(\"Training Time vs Max Depth (n_estimators=25)\");"
      ],
      "metadata": {
        "colab": {
          "base_uri": "https://localhost:8080/",
          "height": 295
        },
        "id": "11Bg8MpQxWkz",
        "outputId": "c793881e-cbab-4070-8e93-f11501274eec"
      },
      "execution_count": null,
      "outputs": [
        {
          "output_type": "display_data",
          "data": {
            "text/plain": [
              "<Figure size 432x288 with 1 Axes>"
            ],
            "image/png": "[encoded data removed]"
          },
          "metadata": {
            "needs_background": "light"
          }
        }
      ]
    },
    {
      "cell_type": "code",
      "source": [
        "# Extract best hyperparameters\n",
        "model.best_estimator_"
      ],
      "metadata": {
        "colab": {
          "base_uri": "https://localhost:8080/"
        },
        "id": "O1samesGxX5S",
        "outputId": "00323e51-bfef-44b4-a362-fbbe8fec77f1"
      },
      "execution_count": null,
      "outputs": [
        {
          "output_type": "execute_result",
          "data": {
            "text/plain": [
              "Pipeline(steps=[('simpleimputer', SimpleImputer()),\n",
              "                ('randomforestclassifier',\n",
              "                 RandomForestClassifier(max_depth=40, n_estimators=50,\n",
              "                                        random_state=42))])"
            ]
          },
          "metadata": {},
          "execution_count": 35
        }
      ]
    },
    {
      "cell_type": "code",
      "source": [
        "model = make_pipeline(SimpleImputer(strategy = \"median\"), RandomForestClassifier(max_depth = 40, n_estimators = 50, random_state = 42))\n",
        "model.fit(X_train_over, y_train_over)"
      ],
      "metadata": {
        "colab": {
          "base_uri": "https://localhost:8080/"
        },
        "id": "LojtIXPLxaL5",
        "outputId": "c660d341-a2f3-4175-dae8-d2c9c66c3266"
      },
      "execution_count": null,
      "outputs": [
        {
          "output_type": "execute_result",
          "data": {
            "text/plain": [
              "Pipeline(steps=[('simpleimputer', SimpleImputer(strategy='median')),\n",
              "                ('randomforestclassifier',\n",
              "                 RandomForestClassifier(max_depth=40, n_estimators=50,\n",
              "                                        random_state=42))])"
            ]
          },
          "metadata": {},
          "execution_count": 36
        }
      ]
    },
    {
      "cell_type": "code",
      "source": [
        "acc_train = accuracy_score(y_train_over, model.predict(X_train_over))\n",
        "acc_test = accuracy_score(y_test, model.predict(X_test))\n",
        "\n",
        "print(\"Training Accuracy:\", round(acc_train, 4))\n",
        "print(\"Test Accuracy:\", round(acc_test, 4))"
      ],
      "metadata": {
        "colab": {
          "base_uri": "https://localhost:8080/"
        },
        "id": "EjH2d_IixcVV",
        "outputId": "4166eb0a-74a0-4b83-9926-76adbde1cb66"
      },
      "execution_count": null,
      "outputs": [
        {
          "output_type": "stream",
          "name": "stdout",
          "text": [
            "Training Accuracy: 1.0\n",
            "Test Accuracy: 0.9627\n"
          ]
        }
      ]
    },
    {
      "cell_type": "code",
      "source": [
        "y_test.value_counts()"
      ],
      "metadata": {
        "colab": {
          "base_uri": "https://localhost:8080/"
        },
        "id": "AJAGC7aJxkCc",
        "outputId": "52968aeb-a46f-4f91-9b5b-dff5f6c5ab5c"
      },
      "execution_count": null,
      "outputs": [
        {
          "output_type": "execute_result",
          "data": {
            "text/plain": [
              "0    8240\n",
              "1     441\n",
              "Name: bankrupt, dtype: int64"
            ]
          },
          "metadata": {},
          "execution_count": 38
        }
      ]
    },
    {
      "cell_type": "code",
      "source": [
        "# Plot confusion matrix\n",
        "ConfusionMatrixDisplay.from_estimator(model, X_test, y_test)"
      ],
      "metadata": {
        "colab": {
          "base_uri": "https://localhost:8080/",
          "height": 296
        },
        "id": "_B-eXLquxmYD",
        "outputId": "8d167314-8e54-4123-e0f2-7490ca442b16"
      },
      "execution_count": null,
      "outputs": [
        {
          "output_type": "execute_result",
          "data": {
            "text/plain": [
              "<sklearn.metrics._plot.confusion_matrix.ConfusionMatrixDisplay at 0x7f2e2ebeae80>"
            ]
          },
          "metadata": {},
          "execution_count": 39
        },
        {
          "output_type": "display_data",
          "data": {
            "text/plain": [
              "<Figure size 432x288 with 2 Axes>"
            ],
            "image/png": "[encoded data removed]"
          },
          "metadata": {
            "needs_background": "light"
          }
        }
      ]
    },
    {
      "cell_type": "markdown",
      "source": [
        "Communicate"
      ],
      "metadata": {
        "id": "7EMMk1_oxpiw"
      }
    },
    {
      "cell_type": "code",
      "source": [
        "# Get feature names from training data\n",
        "features = X_train_over.columns\n",
        "# Extract importances from model\n",
        "importances = model.named_steps[\"randomforestclassifier\"].feature_importances_\n",
        "# Create a series with feature names and importances\n",
        "feat_imp = pd.Series(importances, index = features).sort_values()\n",
        "# Plot 10 most important features\n",
        "feat_imp.tail().plot(kind = \"barh\")\n",
        "plt.xlabel(\"Gini Importance\")\n",
        "plt.ylabel(\"Feature\")\n",
        "plt.title(\"Feature Importance\");"
      ],
      "metadata": {
        "colab": {
          "base_uri": "https://localhost:8080/",
          "height": 295
        },
        "id": "QSBmWTLXxrK-",
        "outputId": "e7460f89-efb0-4a26-9137-92cc275b87c4"
      },
      "execution_count": null,
      "outputs": [
        {
          "output_type": "display_data",
          "data": {
            "text/plain": [
              "<Figure size 432x288 with 1 Axes>"
            ],
            "image/png": "[encoded data removed]"
          },
          "metadata": {
            "needs_background": "light"
          }
        }
      ]
    },
    {
      "cell_type": "code",
      "source": [
        "# Save model\n",
        "with open(\"model-random-forest.pkl\", \"wb\") as f:\n",
        "    pickle.dump(model, f)"
      ],
      "metadata": {
        "id": "YrQ1zxYdxtIS"
      },
      "execution_count": null,
      "outputs": []
    },
    {
      "cell_type": "markdown",
      "source": [
        "# Gradient Boosting"
      ],
      "metadata": {
        "id": "756n4Vpvx4Kl"
      }
    },
    {
      "cell_type": "code",
      "source": [
        "clf = make_pipeline(SimpleImputer(), GradientBoostingClassifier(random_state = 42))\n",
        "print(clf)"
      ],
      "metadata": {
        "colab": {
          "base_uri": "https://localhost:8080/"
        },
        "id": "5Ezy2qRFx-JE",
        "outputId": "167a1f40-f89d-43c9-de8d-297a2a38d1ba"
      },
      "execution_count": null,
      "outputs": [
        {
          "output_type": "stream",
          "name": "stdout",
          "text": [
            "Pipeline(steps=[('simpleimputer', SimpleImputer()),\n",
            "                ('gradientboostingclassifier',\n",
            "                 GradientBoostingClassifier(random_state=42))])\n"
          ]
        }
      ]
    },
    {
      "cell_type": "code",
      "source": [
        "params = {\n",
        "    \"simpleimputer__strategy\": [\"mean\", \"median\"],\n",
        "    \"gradientboostingclassifier__max_depth\": range(2, 5),\n",
        "    \"gradientboostingclassifier__n_estimators\": range(20, 31, 5)\n",
        "}\n",
        "params"
      ],
      "metadata": {
        "colab": {
          "base_uri": "https://localhost:8080/"
        },
        "id": "mkLLh1SOyAZS",
        "outputId": "3c0f4746-6ac3-4040-a9e3-07b74a7648b3"
      },
      "execution_count": null,
      "outputs": [
        {
          "output_type": "execute_result",
          "data": {
            "text/plain": [
              "{'simpleimputer__strategy': ['mean', 'median'],\n",
              " 'gradientboostingclassifier__max_depth': range(2, 5),\n",
              " 'gradientboostingclassifier__n_estimators': range(20, 31, 5)}"
            ]
          },
          "metadata": {},
          "execution_count": 43
        }
      ]
    },
    {
      "cell_type": "code",
      "source": [
        "model = GridSearchCV(\n",
        "\tclf,\n",
        "    param_grid = params,\n",
        "    cv = 5,\n",
        "    n_jobs = -1,\n",
        "    verbose = 1\n",
        ")\n",
        "model"
      ],
      "metadata": {
        "colab": {
          "base_uri": "https://localhost:8080/"
        },
        "id": "TDCL9ENryCu2",
        "outputId": "401048d2-9a16-4b0d-b223-0d33e46ee7ae"
      },
      "execution_count": null,
      "outputs": [
        {
          "output_type": "execute_result",
          "data": {
            "text/plain": [
              "GridSearchCV(cv=5,\n",
              "             estimator=Pipeline(steps=[('simpleimputer', SimpleImputer()),\n",
              "                                       ('gradientboostingclassifier',\n",
              "                                        GradientBoostingClassifier(random_state=42))]),\n",
              "             n_jobs=-1,\n",
              "             param_grid={'gradientboostingclassifier__max_depth': range(2, 5),\n",
              "                         'gradientboostingclassifier__n_estimators': range(20, 31, 5),\n",
              "                         'simpleimputer__strategy': ['mean', 'median']},\n",
              "             verbose=1)"
            ]
          },
          "metadata": {},
          "execution_count": 44
        }
      ]
    },
    {
      "cell_type": "code",
      "source": [
        "# Fit model to over-sampled training data\n",
        "model.fit(X_train_over, y_train_over)"
      ],
      "metadata": {
        "colab": {
          "base_uri": "https://localhost:8080/"
        },
        "id": "Cw9f0csTyD7G",
        "outputId": "34538c8f-677d-4577-cd91-829fa349068b"
      },
      "execution_count": null,
      "outputs": [
        {
          "output_type": "stream",
          "name": "stdout",
          "text": [
            "Fitting 5 folds for each of 18 candidates, totalling 90 fits\n"
          ]
        },
        {
          "output_type": "execute_result",
          "data": {
            "text/plain": [
              "GridSearchCV(cv=5,\n",
              "             estimator=Pipeline(steps=[('simpleimputer', SimpleImputer()),\n",
              "                                       ('gradientboostingclassifier',\n",
              "                                        GradientBoostingClassifier(random_state=42))]),\n",
              "             n_jobs=-1,\n",
              "             param_grid={'gradientboostingclassifier__max_depth': range(2, 5),\n",
              "                         'gradientboostingclassifier__n_estimators': range(20, 31, 5),\n",
              "                         'simpleimputer__strategy': ['mean', 'median']},\n",
              "             verbose=1)"
            ]
          },
          "metadata": {},
          "execution_count": 45
        }
      ]
    },
    {
      "cell_type": "code",
      "source": [
        "results = pd.DataFrame(model.cv_results_)\n",
        "results.sort_values(\"rank_test_score\").head(10)"
      ],
      "metadata": {
        "colab": {
          "base_uri": "https://localhost:8080/",
          "height": 600
        },
        "id": "f_SXB5NJyGwu",
        "outputId": "c01ac2f0-883b-47da-d2d9-4791611f3f35"
      },
      "execution_count": null,
      "outputs": [
        {
          "output_type": "execute_result",
          "data": {
            "text/plain": [
              "    mean_fit_time  std_fit_time  mean_score_time  std_score_time  \\\n",
              "17      65.457159      1.024469         0.043180        0.016223   \n",
              "16      66.376083      0.920975         0.036195        0.000705   \n",
              "15      55.149150      0.270137         0.035164        0.001261   \n",
              "14      54.839669      0.264078         0.048416        0.017482   \n",
              "13      44.893038      0.964222         0.046695        0.017692   \n",
              "12      43.663427      0.882518         0.034018        0.003306   \n",
              "10      51.359030      0.756394         0.041844        0.013721   \n",
              "11      54.519236      4.816720         0.035453        0.001763   \n",
              "8       42.599621      0.526343         0.048356        0.016842   \n",
              "9       42.694944      0.128646         0.033341        0.001250   \n",
              "\n",
              "   param_gradientboostingclassifier__max_depth  \\\n",
              "17                                           4   \n",
              "16                                           4   \n",
              "15                                           4   \n",
              "14                                           4   \n",
              "13                                           4   \n",
              "12                                           4   \n",
              "10                                           3   \n",
              "11                                           3   \n",
              "8                                            3   \n",
              "9                                            3   \n",
              "\n",
              "   param_gradientboostingclassifier__n_estimators  \\\n",
              "17                                             30   \n",
              "16                                             30   \n",
              "15                                             25   \n",
              "14                                             25   \n",
              "13                                             20   \n",
              "12                                             20   \n",
              "10                                             30   \n",
              "11                                             30   \n",
              "8                                              25   \n",
              "9                                              25   \n",
              "\n",
              "   param_simpleimputer__strategy  \\\n",
              "17                        median   \n",
              "16                          mean   \n",
              "15                        median   \n",
              "14                          mean   \n",
              "13                        median   \n",
              "12                          mean   \n",
              "10                          mean   \n",
              "11                        median   \n",
              "8                           mean   \n",
              "9                         median   \n",
              "\n",
              "                                               params  split0_test_score  \\\n",
              "17  {'gradientboostingclassifier__max_depth': 4, '...           0.874981   \n",
              "16  {'gradientboostingclassifier__max_depth': 4, '...           0.870975   \n",
              "15  {'gradientboostingclassifier__max_depth': 4, '...           0.867725   \n",
              "14  {'gradientboostingclassifier__max_depth': 4, '...           0.866667   \n",
              "13  {'gradientboostingclassifier__max_depth': 4, '...           0.859335   \n",
              "12  {'gradientboostingclassifier__max_depth': 4, '...           0.857974   \n",
              "10  {'gradientboostingclassifier__max_depth': 3, '...           0.840212   \n",
              "11  {'gradientboostingclassifier__max_depth': 3, '...           0.837793   \n",
              "8   {'gradientboostingclassifier__max_depth': 3, '...           0.832729   \n",
              "9   {'gradientboostingclassifier__max_depth': 3, '...           0.829327   \n",
              "\n",
              "    split1_test_score  split2_test_score  split3_test_score  \\\n",
              "17           0.879667           0.876644           0.870965   \n",
              "16           0.874906           0.877400           0.870512   \n",
              "15           0.872940           0.871353           0.862726   \n",
              "14           0.867498           0.865835           0.864389   \n",
              "13           0.865306           0.863114           0.853730   \n",
              "12           0.862132           0.857823           0.858039   \n",
              "10           0.845427           0.839909           0.842014   \n",
              "11           0.837944           0.838322           0.837176   \n",
              "8            0.837642           0.830990           0.837251   \n",
              "9            0.836432           0.831822           0.830221   \n",
              "\n",
              "    split4_test_score  mean_test_score  std_test_score  rank_test_score  \n",
              "17           0.874820         0.875416        0.002826                1  \n",
              "16           0.869605         0.872679        0.002976                2  \n",
              "15           0.867035         0.868356        0.003573                3  \n",
              "14           0.861063         0.865090        0.002261                4  \n",
              "13           0.860760         0.860449        0.003929                5  \n",
              "12           0.851765         0.857547        0.003315                6  \n",
              "10           0.836722         0.840857        0.002851                7  \n",
              "11           0.830146         0.836276        0.003087                8  \n",
              "8            0.831355         0.833993        0.002881                9  \n",
              "9            0.823569         0.830274        0.004151               10  "
            ],
            "text/html": [
              "\n",
              "  <div id=\"df-44337a38-e9ee-4c5b-8a04-8811c1ce0050\">\n",
              "    <div class=\"colab-df-container\">\n",
              "      <div>\n",
              "<style scoped>\n",
              "    .dataframe tbody tr th:only-of-type {\n",
              "        vertical-align: middle;\n",
              "    }\n",
              "\n",
              "    .dataframe tbody tr th {\n",
              "        vertical-align: top;\n",
              "    }\n",
              "\n",
              "    .dataframe thead th {\n",
              "        text-align: right;\n",
              "    }\n",
              "</style>\n",
              "<table border=\"1\" class=\"dataframe\">\n",
              "  <thead>\n",
              "    <tr style=\"text-align: right;\">\n",
              "      <th></th>\n",
              "      <th>mean_fit_time</th>\n",
              "      <th>std_fit_time</th>\n",
              "      <th>mean_score_time</th>\n",
              "      <th>std_score_time</th>\n",
              "      <th>param_gradientboostingclassifier__max_depth</th>\n",
              "      <th>param_gradientboostingclassifier__n_estimators</th>\n",
              "      <th>param_simpleimputer__strategy</th>\n",
              "      <th>params</th>\n",
              "      <th>split0_test_score</th>\n",
              "      <th>split1_test_score</th>\n",
              "      <th>split2_test_score</th>\n",
              "      <th>split3_test_score</th>\n",
              "      <th>split4_test_score</th>\n",
              "      <th>mean_test_score</th>\n",
              "      <th>std_test_score</th>\n",
              "      <th>rank_test_score</th>\n",
              "    </tr>\n",
              "  </thead>\n",
              "  <tbody>\n",
              "    <tr>\n",
              "      <th>17</th>\n",
              "      <td>65.457159</td>\n",
              "      <td>1.024469</td>\n",
              "      <td>0.043180</td>\n",
              "      <td>0.016223</td>\n",
              "      <td>4</td>\n",
              "      <td>30</td>\n",
              "      <td>median</td>\n",
              "      <td>{'gradientboostingclassifier__max_depth': 4, '...</td>\n",
              "      <td>0.874981</td>\n",
              "      <td>0.879667</td>\n",
              "      <td>0.876644</td>\n",
              "      <td>0.870965</td>\n",
              "      <td>0.874820</td>\n",
              "      <td>0.875416</td>\n",
              "      <td>0.002826</td>\n",
              "      <td>1</td>\n",
              "    </tr>\n",
              "    <tr>\n",
              "      <th>16</th>\n",
              "      <td>66.376083</td>\n",
              "      <td>0.920975</td>\n",
              "      <td>0.036195</td>\n",
              "      <td>0.000705</td>\n",
              "      <td>4</td>\n",
              "      <td>30</td>\n",
              "      <td>mean</td>\n",
              "      <td>{'gradientboostingclassifier__max_depth': 4, '...</td>\n",
              "      <td>0.870975</td>\n",
              "      <td>0.874906</td>\n",
              "      <td>0.877400</td>\n",
              "      <td>0.870512</td>\n",
              "      <td>0.869605</td>\n",
              "      <td>0.872679</td>\n",
              "      <td>0.002976</td>\n",
              "      <td>2</td>\n",
              "    </tr>\n",
              "    <tr>\n",
              "      <th>15</th>\n",
              "      <td>55.149150</td>\n",
              "      <td>0.270137</td>\n",
              "      <td>0.035164</td>\n",
              "      <td>0.001261</td>\n",
              "      <td>4</td>\n",
              "      <td>25</td>\n",
              "      <td>median</td>\n",
              "      <td>{'gradientboostingclassifier__max_depth': 4, '...</td>\n",
              "      <td>0.867725</td>\n",
              "      <td>0.872940</td>\n",
              "      <td>0.871353</td>\n",
              "      <td>0.862726</td>\n",
              "      <td>0.867035</td>\n",
              "      <td>0.868356</td>\n",
              "      <td>0.003573</td>\n",
              "      <td>3</td>\n",
              "    </tr>\n",
              "    <tr>\n",
              "      <th>14</th>\n",
              "      <td>54.839669</td>\n",
              "      <td>0.264078</td>\n",
              "      <td>0.048416</td>\n",
              "      <td>0.017482</td>\n",
              "      <td>4</td>\n",
              "      <td>25</td>\n",
              "      <td>mean</td>\n",
              "      <td>{'gradientboostingclassifier__max_depth': 4, '...</td>\n",
              "      <td>0.866667</td>\n",
              "      <td>0.867498</td>\n",
              "      <td>0.865835</td>\n",
              "      <td>0.864389</td>\n",
              "      <td>0.861063</td>\n",
              "      <td>0.865090</td>\n",
              "      <td>0.002261</td>\n",
              "      <td>4</td>\n",
              "    </tr>\n",
              "    <tr>\n",
              "      <th>13</th>\n",
              "      <td>44.893038</td>\n",
              "      <td>0.964222</td>\n",
              "      <td>0.046695</td>\n",
              "      <td>0.017692</td>\n",
              "      <td>4</td>\n",
              "      <td>20</td>\n",
              "      <td>median</td>\n",
              "      <td>{'gradientboostingclassifier__max_depth': 4, '...</td>\n",
              "      <td>0.859335</td>\n",
              "      <td>0.865306</td>\n",
              "      <td>0.863114</td>\n",
              "      <td>0.853730</td>\n",
              "      <td>0.860760</td>\n",
              "      <td>0.860449</td>\n",
              "      <td>0.003929</td>\n",
              "      <td>5</td>\n",
              "    </tr>\n",
              "    <tr>\n",
              "      <th>12</th>\n",
              "      <td>43.663427</td>\n",
              "      <td>0.882518</td>\n",
              "      <td>0.034018</td>\n",
              "      <td>0.003306</td>\n",
              "      <td>4</td>\n",
              "      <td>20</td>\n",
              "      <td>mean</td>\n",
              "      <td>{'gradientboostingclassifier__max_depth': 4, '...</td>\n",
              "      <td>0.857974</td>\n",
              "      <td>0.862132</td>\n",
              "      <td>0.857823</td>\n",
              "      <td>0.858039</td>\n",
              "      <td>0.851765</td>\n",
              "      <td>0.857547</td>\n",
              "      <td>0.003315</td>\n",
              "      <td>6</td>\n",
              "    </tr>\n",
              "    <tr>\n",
              "      <th>10</th>\n",
              "      <td>51.359030</td>\n",
              "      <td>0.756394</td>\n",
              "      <td>0.041844</td>\n",
              "      <td>0.013721</td>\n",
              "      <td>3</td>\n",
              "      <td>30</td>\n",
              "      <td>mean</td>\n",
              "      <td>{'gradientboostingclassifier__max_depth': 3, '...</td>\n",
              "      <td>0.840212</td>\n",
              "      <td>0.845427</td>\n",
              "      <td>0.839909</td>\n",
              "      <td>0.842014</td>\n",
              "      <td>0.836722</td>\n",
              "      <td>0.840857</td>\n",
              "      <td>0.002851</td>\n",
              "      <td>7</td>\n",
              "    </tr>\n",
              "    <tr>\n",
              "      <th>11</th>\n",
              "      <td>54.519236</td>\n",
              "      <td>4.816720</td>\n",
              "      <td>0.035453</td>\n",
              "      <td>0.001763</td>\n",
              "      <td>3</td>\n",
              "      <td>30</td>\n",
              "      <td>median</td>\n",
              "      <td>{'gradientboostingclassifier__max_depth': 3, '...</td>\n",
              "      <td>0.837793</td>\n",
              "      <td>0.837944</td>\n",
              "      <td>0.838322</td>\n",
              "      <td>0.837176</td>\n",
              "      <td>0.830146</td>\n",
              "      <td>0.836276</td>\n",
              "      <td>0.003087</td>\n",
              "      <td>8</td>\n",
              "    </tr>\n",
              "    <tr>\n",
              "      <th>8</th>\n",
              "      <td>42.599621</td>\n",
              "      <td>0.526343</td>\n",
              "      <td>0.048356</td>\n",
              "      <td>0.016842</td>\n",
              "      <td>3</td>\n",
              "      <td>25</td>\n",
              "      <td>mean</td>\n",
              "      <td>{'gradientboostingclassifier__max_depth': 3, '...</td>\n",
              "      <td>0.832729</td>\n",
              "      <td>0.837642</td>\n",
              "      <td>0.830990</td>\n",
              "      <td>0.837251</td>\n",
              "      <td>0.831355</td>\n",
              "      <td>0.833993</td>\n",
              "      <td>0.002881</td>\n",
              "      <td>9</td>\n",
              "    </tr>\n",
              "    <tr>\n",
              "      <th>9</th>\n",
              "      <td>42.694944</td>\n",
              "      <td>0.128646</td>\n",
              "      <td>0.033341</td>\n",
              "      <td>0.001250</td>\n",
              "      <td>3</td>\n",
              "      <td>25</td>\n",
              "      <td>median</td>\n",
              "      <td>{'gradientboostingclassifier__max_depth': 3, '...</td>\n",
              "      <td>0.829327</td>\n",
              "      <td>0.836432</td>\n",
              "      <td>0.831822</td>\n",
              "      <td>0.830221</td>\n",
              "      <td>0.823569</td>\n",
              "      <td>0.830274</td>\n",
              "      <td>0.004151</td>\n",
              "      <td>10</td>\n",
              "    </tr>\n",
              "  </tbody>\n",
              "</table>\n",
              "</div>\n",
              "      <button class=\"colab-df-convert\" onclick=\"convertToInteractive('df-44337a38-e9ee-4c5b-8a04-8811c1ce0050')\"\n",
              "              title=\"Convert this dataframe to an interactive table.\"\n",
              "              style=\"display:none;\">\n",
              "        \n",
              "  <svg xmlns=\"http://www.w3.org/2000/svg\" height=\"24px\"viewBox=\"0 0 24 24\"\n",
              "       width=\"24px\">\n",
              "    <path d=\"M0 0h24v24H0V0z\" fill=\"none\"/>\n",
              "    <path d=\"M18.56 5.44l.94 2.06.94-2.06 2.06-.94-2.06-.94-.94-2.06-.94 2.06-2.06.94zm-11 1L8.5 8.5l.94-2.06 2.06-.94-2.06-.94L8.5 2.5l-.94 2.06-2.06.94zm10 10l.94 2.06.94-2.06 2.06-.94-2.06-.94-.94-2.06-.94 2.06-2.06.94z\"/><path d=\"M17.41 7.96l-1.37-1.37c-.4-.4-.92-.59-1.43-.59-.52 0-1.04.2-1.43.59L10.3 9.45l-7.72 7.72c-.78.78-.78 2.05 0 2.83L4 21.41c.39.39.9.59 1.41.59.51 0 1.02-.2 1.41-.59l7.78-7.78 2.81-2.81c.8-.78.8-2.07 0-2.86zM5.41 20L4 18.59l7.72-7.72 1.47 1.35L5.41 20z\"/>\n",
              "  </svg>\n",
              "      </button>\n",
              "      \n",
              "  <style>\n",
              "    .colab-df-container {\n",
              "      display:flex;\n",
              "      flex-wrap:wrap;\n",
              "      gap: 12px;\n",
              "    }\n",
              "\n",
              "    .colab-df-convert {\n",
              "      background-color: #E8F0FE;\n",
              "      border: none;\n",
              "      border-radius: 50%;\n",
              "      cursor: pointer;\n",
              "      display: none;\n",
              "      fill: #1967D2;\n",
              "      height: 32px;\n",
              "      padding: 0 0 0 0;\n",
              "      width: 32px;\n",
              "    }\n",
              "\n",
              "    .colab-df-convert:hover {\n",
              "      background-color: #E2EBFA;\n",
              "      box-shadow: 0px 1px 2px rgba(60, 64, 67, 0.3), 0px 1px 3px 1px rgba(60, 64, 67, 0.15);\n",
              "      fill: #174EA6;\n",
              "    }\n",
              "\n",
              "    [theme=dark] .colab-df-convert {\n",
              "      background-color: #3B4455;\n",
              "      fill: #D2E3FC;\n",
              "    }\n",
              "\n",
              "    [theme=dark] .colab-df-convert:hover {\n",
              "      background-color: #434B5C;\n",
              "      box-shadow: 0px 1px 3px 1px rgba(0, 0, 0, 0.15);\n",
              "      filter: drop-shadow(0px 1px 2px rgba(0, 0, 0, 0.3));\n",
              "      fill: #FFFFFF;\n",
              "    }\n",
              "  </style>\n",
              "\n",
              "      <script>\n",
              "        const buttonEl =\n",
              "          document.querySelector('#df-44337a38-e9ee-4c5b-8a04-8811c1ce0050 button.colab-df-convert');\n",
              "        buttonEl.style.display =\n",
              "          google.colab.kernel.accessAllowed ? 'block' : 'none';\n",
              "\n",
              "        async function convertToInteractive(key) {\n",
              "          const element = document.querySelector('#df-44337a38-e9ee-4c5b-8a04-8811c1ce0050');\n",
              "          const dataTable =\n",
              "            await google.colab.kernel.invokeFunction('convertToInteractive',\n",
              "                                                     [key], {});\n",
              "          if (!dataTable) return;\n",
              "\n",
              "          const docLinkHtml = 'Like what you see? Visit the ' +\n",
              "            '<a target=\"_blank\" href=https://colab.research.google.com/notebooks/data_table.ipynb>data table notebook</a>'\n",
              "            + ' to learn more about interactive tables.';\n",
              "          element.innerHTML = '';\n",
              "          dataTable['output_type'] = 'display_data';\n",
              "          await google.colab.output.renderOutput(dataTable, element);\n",
              "          const docLink = document.createElement('div');\n",
              "          docLink.innerHTML = docLinkHtml;\n",
              "          element.appendChild(docLink);\n",
              "        }\n",
              "      </script>\n",
              "    </div>\n",
              "  </div>\n",
              "  "
            ]
          },
          "metadata": {},
          "execution_count": 46
        }
      ]
    },
    {
      "cell_type": "code",
      "source": [
        "# Extract best hyperparameters\n",
        "model.best_estimator_"
      ],
      "metadata": {
        "colab": {
          "base_uri": "https://localhost:8080/"
        },
        "id": "65sepGLcyHFB",
        "outputId": "68d1e6ee-1cb7-4079-963d-2b1cc6afd1c8"
      },
      "execution_count": null,
      "outputs": [
        {
          "output_type": "execute_result",
          "data": {
            "text/plain": [
              "Pipeline(steps=[('simpleimputer', SimpleImputer(strategy='median')),\n",
              "                ('gradientboostingclassifier',\n",
              "                 GradientBoostingClassifier(max_depth=4, n_estimators=30,\n",
              "                                            random_state=42))])"
            ]
          },
          "metadata": {},
          "execution_count": 47
        }
      ]
    },
    {
      "cell_type": "code",
      "source": [
        "acc_train = accuracy_score(y_train, model.predict(X_train))\n",
        "acc_test = accuracy_score(y_test, model.predict(X_test))\n",
        "\n",
        "print(\"Training Accuracy:\", round(acc_train, 4))\n",
        "print(\"Validation Accuracy:\", round(acc_test, 4))"
      ],
      "metadata": {
        "colab": {
          "base_uri": "https://localhost:8080/"
        },
        "id": "Epb3jv8syIWf",
        "outputId": "3a152f5b-58dc-48f7-eae0-40e9489a3544"
      },
      "execution_count": null,
      "outputs": [
        {
          "output_type": "stream",
          "name": "stdout",
          "text": [
            "Training Accuracy: 0.8685\n",
            "Validation Accuracy: 0.8615\n"
          ]
        }
      ]
    },
    {
      "cell_type": "code",
      "source": [
        "# Plot confusion matrix\n",
        "ConfusionMatrixDisplay.from_estimator(model, X_test, y_test)"
      ],
      "metadata": {
        "colab": {
          "base_uri": "https://localhost:8080/"
        },
        "id": "WT5qOTzqyLuV",
        "outputId": "a5ffa272-0a30-4b98-cb3c-399e5f7033e0"
      },
      "execution_count": null,
      "outputs": [
        {
          "output_type": "execute_result",
          "data": {
            "text/plain": [
              "<sklearn.metrics._plot.confusion_matrix.ConfusionMatrixDisplay at 0x7f2e2eedf460>"
            ]
          },
          "metadata": {},
          "execution_count": 54
        },
        {
          "output_type": "display_data",
          "data": {
            "text/plain": [
              "<Figure size 432x288 with 2 Axes>"
            ],
            "image/png": "[encoded data removed]"
          },
          "metadata": {
            "needs_background": "light"
          }
        }
      ]
    }
  ]
}